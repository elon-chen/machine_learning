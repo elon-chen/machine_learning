{
 "cells": [
  {
   "cell_type": "markdown",
   "metadata": {},
   "source": [
    "##### Name: Muhao Chen IIT ID Number: A20456889\n",
    "##### My git-hub: https://github.com/muhaochen-2021 "
   ]
  },
  {
   "cell_type": "markdown",
   "metadata": {},
   "source": [
    "## 1. IMDB Movie"
   ]
  },
  {
   "cell_type": "markdown",
   "metadata": {},
   "source": [
    "### 1.1 Load Data"
   ]
  },
  {
   "cell_type": "code",
   "execution_count": 1,
   "metadata": {},
   "outputs": [],
   "source": [
    "# reference: https://keras.io/examples/nlp/bidirectional_lstm_imdb/\n",
    "import tensorflow as tf\n",
    "import matplotlib.pyplot as plt\n",
    "from tensorflow import keras\n",
    "import numpy as np\n",
    "from keras.preprocessing import sequence\n",
    "from keras.models import Sequential\n",
    "from keras.layers import Dense, Embedding\n",
    "from keras.layers import LSTM,SimpleRNN\n",
    "from keras.datasets import imdb"
   ]
  },
  {
   "cell_type": "code",
   "execution_count": 2,
   "metadata": {},
   "outputs": [],
   "source": [
    "# download data\n",
    "max_features = 20000\n",
    "maxlen = 70\n",
    "(train_data, train_labels), (x_test, y_test) = imdb.load_data(num_words = max_features)"
   ]
  },
  {
   "cell_type": "code",
   "execution_count": 3,
   "metadata": {},
   "outputs": [
    {
     "name": "stdout",
     "output_type": "stream",
     "text": [
      "one review matrix(example):\n",
      "[1, 14, 22, 16, 43, 530, 973, 1622, 1385, 65, 458, 4468, 66, 3941, 4, 173, 36, 256, 5, 25, 100, 43, 838, 112, 50, 670, 2, 9, 35, 480, 284, 5, 150, 4, 172, 112, 167, 2, 336, 385, 39, 4, 172, 4536, 1111, 17, 546, 38, 13, 447, 4, 192, 50, 16, 6, 147, 2025, 19, 14, 22, 4, 1920, 4613, 469, 4, 22, 71, 87, 12, 16, 43, 530, 38, 76, 15, 13, 1247, 4, 22, 17, 515, 17, 12, 16, 626, 18, 19193, 5, 62, 386, 12, 8, 316, 8, 106, 5, 4, 2223, 5244, 16, 480, 66, 3785, 33, 4, 130, 12, 16, 38, 619, 5, 25, 124, 51, 36, 135, 48, 25, 1415, 33, 6, 22, 12, 215, 28, 77, 52, 5, 14, 407, 16, 82, 10311, 8, 4, 107, 117, 5952, 15, 256, 4, 2, 7, 3766, 5, 723, 36, 71, 43, 530, 476, 26, 400, 317, 46, 7, 4, 12118, 1029, 13, 104, 88, 4, 381, 15, 297, 98, 32, 2071, 56, 26, 141, 6, 194, 7486, 18, 4, 226, 22, 21, 134, 476, 26, 480, 5, 144, 30, 5535, 18, 51, 36, 28, 224, 92, 25, 104, 4, 226, 65, 16, 38, 1334, 88, 12, 16, 283, 5, 16, 4472, 113, 103, 32, 15, 16, 5345, 19, 178, 32]\n"
     ]
    }
   ],
   "source": [
    "print(\"one review matrix(example):\")\n",
    "print(train_data[0])"
   ]
  },
  {
   "cell_type": "code",
   "execution_count": 4,
   "metadata": {},
   "outputs": [],
   "source": [
    "# split data into train,val and test\n",
    "x_val = train_data[:5000]\n",
    "x_train = train_data[5000:]\n",
    "y_val = train_labels[:5000]\n",
    "y_train = train_labels[5000:]\n",
    "\n",
    "# pad/cut the sequences to maxlen\n",
    "x_train = sequence.pad_sequences(x_train, maxlen = maxlen)\n",
    "x_val = sequence.pad_sequences(x_val, maxlen = maxlen)\n",
    "x_test = sequence.pad_sequences(x_test, maxlen = maxlen)"
   ]
  },
  {
   "cell_type": "code",
   "execution_count": 5,
   "metadata": {},
   "outputs": [
    {
     "name": "stdout",
     "output_type": "stream",
     "text": [
      "one review matrix(example):\n",
      "[   43   530   476    26   400   317    46     7     4 12118  1029    13\n",
      "   104    88     4   381    15   297    98    32  2071    56    26   141\n",
      "     6   194  7486    18     4   226    22    21   134   476    26   480\n",
      "     5   144    30  5535    18    51    36    28   224    92    25   104\n",
      "     4   226    65    16    38  1334    88    12    16   283     5    16\n",
      "  4472   113   103    32    15    16  5345    19   178    32]\n"
     ]
    }
   ],
   "source": [
    "print(\"one review matrix(example):\")\n",
    "print(x_val[0])"
   ]
  },
  {
   "cell_type": "code",
   "execution_count": 6,
   "metadata": {},
   "outputs": [
    {
     "name": "stdout",
     "output_type": "stream",
     "text": [
      "train_data_shape: (20000, 70)\n",
      "validation_data_shape: (5000, 70)\n",
      "test_data_shape: (25000, 70)\n"
     ]
    }
   ],
   "source": [
    "print(\"train_data_shape:\",x_train.shape)\n",
    "print(\"validation_data_shape:\",x_val.shape)\n",
    "print(\"test_data_shape:\",x_test.shape)"
   ]
  },
  {
   "cell_type": "markdown",
   "metadata": {},
   "source": [
    "### 1.2 Create RNN Model"
   ]
  },
  {
   "cell_type": "code",
   "execution_count": 7,
   "metadata": {},
   "outputs": [],
   "source": [
    "# create RNN model\n",
    "batch_size = 256\n",
    "model = Sequential()\n",
    "model.add(Embedding(input_dim = max_features, output_dim = 120,input_length = 70))\n",
    "model.add(SimpleRNN(120,dropout=0.2,recurrent_dropout=0.2))\n",
    "model.add(Dense(1, activation='sigmoid'))"
   ]
  },
  {
   "cell_type": "code",
   "execution_count": 8,
   "metadata": {},
   "outputs": [
    {
     "name": "stdout",
     "output_type": "stream",
     "text": [
      "Model: \"sequential\"\n",
      "_________________________________________________________________\n",
      " Layer (type)                Output Shape              Param #   \n",
      "=================================================================\n",
      " embedding (Embedding)       (None, 70, 120)           2400000   \n",
      "                                                                 \n",
      " simple_rnn (SimpleRNN)      (None, 120)               28920     \n",
      "                                                                 \n",
      " dense (Dense)               (None, 1)                 121       \n",
      "                                                                 \n",
      "=================================================================\n",
      "Total params: 2,429,041\n",
      "Trainable params: 2,429,041\n",
      "Non-trainable params: 0\n",
      "_________________________________________________________________\n",
      "None\n"
     ]
    }
   ],
   "source": [
    "# show the structure of model\n",
    "print(model.summary())"
   ]
  },
  {
   "cell_type": "markdown",
   "metadata": {},
   "source": [
    "### 1.3 Train RNN Model"
   ]
  },
  {
   "cell_type": "code",
   "execution_count": 9,
   "metadata": {},
   "outputs": [],
   "source": [
    "# plot the loss and acc, set the callbacks\n",
    "# reference https://blog.csdn.net/wyx100/article/details/81096192\n",
    "class Hist_Callbacks(keras.callbacks.Callback):\n",
    "    def on_train_begin(self, logs={}):\n",
    "        self.losses = {'batch':[], 'epoch':[]}\n",
    "        self.accuracy = {'batch':[], 'epoch':[]}\n",
    "        self.val_loss = {'batch':[], 'epoch':[]}\n",
    "        self.val_acc = {'batch':[], 'epoch':[]}\n",
    " \n",
    "    def on_batch_end(self, batch, logs={}):\n",
    "        self.losses['batch'].append(logs.get('loss'))\n",
    "        self.accuracy['batch'].append(logs.get('accuracy'))\n",
    "        self.val_loss['batch'].append(logs.get('val_loss'))\n",
    "        self.val_acc['batch'].append(logs.get('val_accuracy'))\n",
    " \n",
    "    def on_epoch_end(self, batch, logs={}):\n",
    "        self.losses['epoch'].append(logs.get('loss'))\n",
    "        self.accuracy['epoch'].append(logs.get('accuracy'))\n",
    "        self.val_loss['epoch'].append(logs.get('val_loss'))\n",
    "        self.val_acc['epoch'].append(logs.get('val_accuracy'))\n",
    "\n",
    "    def loss_plot_loss(self, loss_type):\n",
    "        iters = range(len(self.losses[loss_type]))\n",
    "        plt.figure()\n",
    "        plt.title('Loss of Model')\n",
    "        plt.ylim(0,1.5)\n",
    "        # plot the loss, train\n",
    "        plt.plot(iters, self.losses[loss_type], 'r', label='train_loss')\n",
    "        # plot the loss, val\n",
    "        plt.plot(iters, self.val_loss[loss_type], 'b', label='val_loss')\n",
    "        plt.grid(True)\n",
    "        plt.xlabel(loss_type)\n",
    "        plt.ylabel('loss')\n",
    "        plt.legend(loc=\"upper right\")\n",
    "        plt.show()\n",
    "        \n",
    "    def loss_plot_acc(self, loss_type):\n",
    "        iters = range(len(self.losses[loss_type]))\n",
    "        plt.figure()\n",
    "        plt.title('Accuracy of Model')\n",
    "        plt.ylim(0, 1)\n",
    "        # plot the acc, train\n",
    "        plt.plot(iters, self.accuracy[loss_type], 'r', label='train_acc')\n",
    "        # plot the acc, val\n",
    "        plt.plot(iters, self.val_acc[loss_type], 'b', label='val_acc')\n",
    "        plt.grid(True)\n",
    "        plt.xlabel(loss_type)\n",
    "        plt.ylabel('acc')\n",
    "        plt.legend(loc=\"upper right\")\n",
    "        plt.show()"
   ]
  },
  {
   "cell_type": "code",
   "execution_count": 10,
   "metadata": {},
   "outputs": [],
   "source": [
    "# create history\n",
    "history = Hist_Callbacks()\n",
    "\n",
    "# set the parameters\n",
    "opt = 'adam'\n",
    "model.compile(loss='binary_crossentropy',\n",
    "              optimizer = opt,\n",
    "              metrics=['accuracy'])"
   ]
  },
  {
   "cell_type": "code",
   "execution_count": 11,
   "metadata": {
    "scrolled": true
   },
   "outputs": [
    {
     "name": "stdout",
     "output_type": "stream",
     "text": [
      "Epoch 1/10\n",
      "WARNING:tensorflow:AutoGraph could not transform <function Model.make_train_function.<locals>.train_function at 0x00000255F7181558> and will run it as-is.\n",
      "Please report this to the TensorFlow team. When filing the bug, set the verbosity to 10 (on Linux, `export AUTOGRAPH_VERBOSITY=10`) and attach the full output.\n",
      "Cause: 'arguments' object has no attribute 'posonlyargs'\n",
      "To silence this warning, decorate the function with @tf.autograph.experimental.do_not_convert\n",
      "WARNING: AutoGraph could not transform <function Model.make_train_function.<locals>.train_function at 0x00000255F7181558> and will run it as-is.\n",
      "Please report this to the TensorFlow team. When filing the bug, set the verbosity to 10 (on Linux, `export AUTOGRAPH_VERBOSITY=10`) and attach the full output.\n",
      "Cause: 'arguments' object has no attribute 'posonlyargs'\n",
      "To silence this warning, decorate the function with @tf.autograph.experimental.do_not_convert\n",
      "79/79 [==============================] - ETA: 0s - loss: 0.6996 - accuracy: 0.5196WARNING:tensorflow:AutoGraph could not transform <function Model.make_test_function.<locals>.test_function at 0x00000255EACB1288> and will run it as-is.\n",
      "Please report this to the TensorFlow team. When filing the bug, set the verbosity to 10 (on Linux, `export AUTOGRAPH_VERBOSITY=10`) and attach the full output.\n",
      "Cause: 'arguments' object has no attribute 'posonlyargs'\n",
      "To silence this warning, decorate the function with @tf.autograph.experimental.do_not_convert\n",
      "WARNING: AutoGraph could not transform <function Model.make_test_function.<locals>.test_function at 0x00000255EACB1288> and will run it as-is.\n",
      "Please report this to the TensorFlow team. When filing the bug, set the verbosity to 10 (on Linux, `export AUTOGRAPH_VERBOSITY=10`) and attach the full output.\n",
      "Cause: 'arguments' object has no attribute 'posonlyargs'\n",
      "To silence this warning, decorate the function with @tf.autograph.experimental.do_not_convert\n",
      "79/79 [==============================] - 21s 241ms/step - loss: 0.6996 - accuracy: 0.5196 - val_loss: 0.6791 - val_accuracy: 0.5546\n",
      "Epoch 2/10\n",
      "79/79 [==============================] - 16s 200ms/step - loss: 0.6629 - accuracy: 0.5915 - val_loss: 0.6248 - val_accuracy: 0.6506\n",
      "Epoch 3/10\n",
      "79/79 [==============================] - 15s 186ms/step - loss: 0.5075 - accuracy: 0.7535 - val_loss: 0.8895 - val_accuracy: 0.6824\n",
      "Epoch 4/10\n",
      "79/79 [==============================] - 14s 181ms/step - loss: 0.3738 - accuracy: 0.8378 - val_loss: 1.0221 - val_accuracy: 0.6956\n",
      "Epoch 5/10\n",
      "79/79 [==============================] - 13s 169ms/step - loss: 0.3089 - accuracy: 0.8724 - val_loss: 1.0373 - val_accuracy: 0.7186\n",
      "Epoch 6/10\n",
      "79/79 [==============================] - 15s 188ms/step - loss: 0.2593 - accuracy: 0.8993 - val_loss: 1.3756 - val_accuracy: 0.6862\n",
      "Epoch 7/10\n",
      "79/79 [==============================] - 15s 193ms/step - loss: 0.2280 - accuracy: 0.9134 - val_loss: 0.7512 - val_accuracy: 0.7816\n",
      "Epoch 8/10\n",
      "79/79 [==============================] - 16s 197ms/step - loss: 0.2179 - accuracy: 0.9172 - val_loss: 1.0362 - val_accuracy: 0.7424\n",
      "Epoch 9/10\n",
      "79/79 [==============================] - 15s 195ms/step - loss: 0.1843 - accuracy: 0.9301 - val_loss: 0.6770 - val_accuracy: 0.7990\n",
      "Epoch 10/10\n",
      "79/79 [==============================] - 15s 185ms/step - loss: 0.1962 - accuracy: 0.9262 - val_loss: 0.6296 - val_accuracy: 0.7968\n"
     ]
    },
    {
     "data": {
      "text/plain": [
       "<keras.callbacks.History at 0x255efccc548>"
      ]
     },
     "execution_count": 11,
     "metadata": {},
     "output_type": "execute_result"
    }
   ],
   "source": [
    "# train model\n",
    "model.fit(x_train, y_train,batch_size=batch_size,\n",
    "                    epochs=10,\n",
    "                    validation_data=(x_val, y_val),\n",
    "                    callbacks = [history])"
   ]
  },
  {
   "cell_type": "markdown",
   "metadata": {},
   "source": [
    "### 1.4 Evaluate RNN Model"
   ]
  },
  {
   "cell_type": "code",
   "execution_count": 12,
   "metadata": {},
   "outputs": [
    {
     "name": "stdout",
     "output_type": "stream",
     "text": [
      "Test score of train dataset: 0.13535472750663757\n",
      "Test accuracy of train dataset: 0.9512500166893005\n",
      "Test score of validation dataset: 0.6296229958534241\n",
      "Test accuracy of validation dataset: 0.7968000173568726\n"
     ]
    }
   ],
   "source": [
    "# evaluate train and val\n",
    "score = model.evaluate(x_train, y_train, verbose=0)\n",
    "print('Test score of train dataset:', score[0])\n",
    "print('Test accuracy of train dataset:', score[1])\n",
    "score = model.evaluate(x_val, y_val, verbose=0)\n",
    "print('Test score of validation dataset:', score[0])\n",
    "print('Test accuracy of validation dataset:', score[1])"
   ]
  },
  {
   "cell_type": "code",
   "execution_count": 13,
   "metadata": {},
   "outputs": [
    {
     "data": {
      "image/png": "[encoded data removed]",
      "text/plain": [
       "<Figure size 432x288 with 1 Axes>"
      ]
     },
     "metadata": {
      "needs_background": "light"
     },
     "output_type": "display_data"
    },
    {
     "data": {
      "image/png": "[encoded data removed]",
      "text/plain": [
       "<Figure size 432x288 with 1 Axes>"
      ]
     },
     "metadata": {
      "needs_background": "light"
     },
     "output_type": "display_data"
    }
   ],
   "source": [
    "# plot the loss and accuracy of train and val \n",
    "loss_type = \"epoch\"\n",
    "history.loss_plot_loss(loss_type)\n",
    "history.loss_plot_acc(loss_type)"
   ]
  },
  {
   "cell_type": "code",
   "execution_count": 14,
   "metadata": {},
   "outputs": [
    {
     "name": "stdout",
     "output_type": "stream",
     "text": [
      "Test score of test dataset: 0.6312285661697388\n",
      "Test accuracy of test dataset: 0.797760009765625\n"
     ]
    }
   ],
   "source": [
    "# evaluate test data\n",
    "score = model.evaluate(x_test, y_test, verbose=0)\n",
    "print('Test score of test dataset:', score[0])\n",
    "print('Test accuracy of test dataset:', score[1])"
   ]
  },
  {
   "cell_type": "markdown",
   "metadata": {},
   "source": [
    "### 1.5 Create LSTM Model"
   ]
  },
  {
   "cell_type": "code",
   "execution_count": 15,
   "metadata": {},
   "outputs": [],
   "source": [
    "# create LSTM model\n",
    "batch_size = 256\n",
    "model = Sequential()\n",
    "model.add(Embedding(input_dim = max_features, output_dim = 120,input_length = 70))\n",
    "model.add(LSTM(120,dropout=0.2,recurrent_dropout=0.2))\n",
    "model.add(Dense(1, activation='sigmoid'))"
   ]
  },
  {
   "cell_type": "code",
   "execution_count": 16,
   "metadata": {},
   "outputs": [
    {
     "name": "stdout",
     "output_type": "stream",
     "text": [
      "Model: \"sequential_1\"\n",
      "_________________________________________________________________\n",
      " Layer (type)                Output Shape              Param #   \n",
      "=================================================================\n",
      " embedding_1 (Embedding)     (None, 70, 120)           2400000   \n",
      "                                                                 \n",
      " lstm (LSTM)                 (None, 120)               115680    \n",
      "                                                                 \n",
      " dense_1 (Dense)             (None, 1)                 121       \n",
      "                                                                 \n",
      "=================================================================\n",
      "Total params: 2,515,801\n",
      "Trainable params: 2,515,801\n",
      "Non-trainable params: 0\n",
      "_________________________________________________________________\n",
      "None\n"
     ]
    }
   ],
   "source": [
    "# show the structure of model\n",
    "print(model.summary())"
   ]
  },
  {
   "cell_type": "markdown",
   "metadata": {},
   "source": [
    "### 1.6 Train LSTM Model"
   ]
  },
  {
   "cell_type": "code",
   "execution_count": 17,
   "metadata": {},
   "outputs": [],
   "source": [
    "# plot the loss and acc, set the callbacks\n",
    "# reference https://blog.csdn.net/wyx100/article/details/81096192\n",
    "class Hist_Callbacks(keras.callbacks.Callback):\n",
    "    def on_train_begin(self, logs={}):\n",
    "        self.losses = {'batch':[], 'epoch':[]}\n",
    "        self.accuracy = {'batch':[], 'epoch':[]}\n",
    "        self.val_loss = {'batch':[], 'epoch':[]}\n",
    "        self.val_acc = {'batch':[], 'epoch':[]}\n",
    " \n",
    "    def on_batch_end(self, batch, logs={}):\n",
    "        self.losses['batch'].append(logs.get('loss'))\n",
    "        self.accuracy['batch'].append(logs.get('accuracy'))\n",
    "        self.val_loss['batch'].append(logs.get('val_loss'))\n",
    "        self.val_acc['batch'].append(logs.get('val_accuracy'))\n",
    " \n",
    "    def on_epoch_end(self, batch, logs={}):\n",
    "        self.losses['epoch'].append(logs.get('loss'))\n",
    "        self.accuracy['epoch'].append(logs.get('accuracy'))\n",
    "        self.val_loss['epoch'].append(logs.get('val_loss'))\n",
    "        self.val_acc['epoch'].append(logs.get('val_accuracy'))\n",
    "\n",
    "    def loss_plot_loss(self, loss_type):\n",
    "        iters = range(len(self.losses[loss_type]))\n",
    "        plt.figure()\n",
    "        plt.title('Loss of Model')\n",
    "        plt.ylim(0,1.5)\n",
    "        # plot the loss, train\n",
    "        plt.plot(iters, self.losses[loss_type], 'r', label='train_loss')\n",
    "        # plot the loss, val\n",
    "        plt.plot(iters, self.val_loss[loss_type], 'b', label='val_loss')\n",
    "        plt.grid(True)\n",
    "        plt.xlabel(loss_type)\n",
    "        plt.ylabel('loss')\n",
    "        plt.legend(loc=\"upper right\")\n",
    "        plt.show()\n",
    "        \n",
    "    def loss_plot_acc(self, loss_type):\n",
    "        iters = range(len(self.losses[loss_type]))\n",
    "        plt.figure()\n",
    "        plt.title('Accuracy of Model')\n",
    "        plt.ylim(0, 1)\n",
    "        # plot the acc, train\n",
    "        plt.plot(iters, self.accuracy[loss_type], 'r', label='train_acc')\n",
    "        # plot the acc, val\n",
    "        plt.plot(iters, self.val_acc[loss_type], 'b', label='val_acc')\n",
    "        plt.grid(True)\n",
    "        plt.xlabel(loss_type)\n",
    "        plt.ylabel('acc')\n",
    "        plt.legend(loc=\"upper right\")\n",
    "        plt.show()"
   ]
  },
  {
   "cell_type": "code",
   "execution_count": 18,
   "metadata": {},
   "outputs": [],
   "source": [
    "# create history\n",
    "history = Hist_Callbacks()\n",
    "\n",
    "# set the parameters\n",
    "opt = 'adam'\n",
    "model.compile(loss='binary_crossentropy',\n",
    "              optimizer = opt,\n",
    "              metrics=['accuracy'])"
   ]
  },
  {
   "cell_type": "code",
   "execution_count": 19,
   "metadata": {
    "scrolled": true
   },
   "outputs": [
    {
     "name": "stdout",
     "output_type": "stream",
     "text": [
      "Epoch 1/10\n",
      "WARNING:tensorflow:AutoGraph could not transform <function Model.make_train_function.<locals>.train_function at 0x00000255E9114438> and will run it as-is.\n",
      "Please report this to the TensorFlow team. When filing the bug, set the verbosity to 10 (on Linux, `export AUTOGRAPH_VERBOSITY=10`) and attach the full output.\n",
      "Cause: 'arguments' object has no attribute 'posonlyargs'\n",
      "To silence this warning, decorate the function with @tf.autograph.experimental.do_not_convert\n",
      "WARNING: AutoGraph could not transform <function Model.make_train_function.<locals>.train_function at 0x00000255E9114438> and will run it as-is.\n",
      "Please report this to the TensorFlow team. When filing the bug, set the verbosity to 10 (on Linux, `export AUTOGRAPH_VERBOSITY=10`) and attach the full output.\n",
      "Cause: 'arguments' object has no attribute 'posonlyargs'\n",
      "To silence this warning, decorate the function with @tf.autograph.experimental.do_not_convert\n",
      "79/79 [==============================] - ETA: 0s - loss: 0.5105 - accuracy: 0.7344WARNING:tensorflow:AutoGraph could not transform <function Model.make_test_function.<locals>.test_function at 0x00000255EAC080D8> and will run it as-is.\n",
      "Please report this to the TensorFlow team. When filing the bug, set the verbosity to 10 (on Linux, `export AUTOGRAPH_VERBOSITY=10`) and attach the full output.\n",
      "Cause: 'arguments' object has no attribute 'posonlyargs'\n",
      "To silence this warning, decorate the function with @tf.autograph.experimental.do_not_convert\n",
      "WARNING: AutoGraph could not transform <function Model.make_test_function.<locals>.test_function at 0x00000255EAC080D8> and will run it as-is.\n",
      "Please report this to the TensorFlow team. When filing the bug, set the verbosity to 10 (on Linux, `export AUTOGRAPH_VERBOSITY=10`) and attach the full output.\n",
      "Cause: 'arguments' object has no attribute 'posonlyargs'\n",
      "To silence this warning, decorate the function with @tf.autograph.experimental.do_not_convert\n",
      "79/79 [==============================] - 57s 638ms/step - loss: 0.5105 - accuracy: 0.7344 - val_loss: 0.4114 - val_accuracy: 0.8210\n",
      "Epoch 2/10\n",
      "79/79 [==============================] - 58s 740ms/step - loss: 0.2866 - accuracy: 0.8835 - val_loss: 0.4055 - val_accuracy: 0.8266\n",
      "Epoch 3/10\n",
      "79/79 [==============================] - 72s 921ms/step - loss: 0.1981 - accuracy: 0.9263 - val_loss: 0.4780 - val_accuracy: 0.8148\n",
      "Epoch 4/10\n",
      "79/79 [==============================] - 70s 890ms/step - loss: 0.1429 - accuracy: 0.9492 - val_loss: 0.5475 - val_accuracy: 0.8084\n",
      "Epoch 5/10\n",
      "79/79 [==============================] - 65s 823ms/step - loss: 0.0958 - accuracy: 0.9671 - val_loss: 0.5707 - val_accuracy: 0.8080\n",
      "Epoch 6/10\n",
      "79/79 [==============================] - 70s 885ms/step - loss: 0.0674 - accuracy: 0.9772 - val_loss: 0.6960 - val_accuracy: 0.7958\n",
      "Epoch 7/10\n",
      "79/79 [==============================] - 70s 890ms/step - loss: 0.0554 - accuracy: 0.9821 - val_loss: 0.8051 - val_accuracy: 0.7948\n",
      "Epoch 8/10\n",
      "79/79 [==============================] - 83s 1s/step - loss: 0.0389 - accuracy: 0.9872 - val_loss: 0.7919 - val_accuracy: 0.7958\n",
      "Epoch 9/10\n",
      "79/79 [==============================] - 68s 867ms/step - loss: 0.0272 - accuracy: 0.9918 - val_loss: 0.8656 - val_accuracy: 0.7966\n",
      "Epoch 10/10\n",
      "79/79 [==============================] - 77s 973ms/step - loss: 0.0241 - accuracy: 0.9927 - val_loss: 0.9114 - val_accuracy: 0.7970\n"
     ]
    },
    {
     "data": {
      "text/plain": [
       "<keras.callbacks.History at 0x255edcebf88>"
      ]
     },
     "execution_count": 19,
     "metadata": {},
     "output_type": "execute_result"
    }
   ],
   "source": [
    "# train model\n",
    "model.fit(x_train, y_train,batch_size=batch_size,\n",
    "                    epochs=10,\n",
    "                    validation_data=(x_val, y_val),\n",
    "                    callbacks = [history])"
   ]
  },
  {
   "cell_type": "markdown",
   "metadata": {},
   "source": [
    "### 1.7 Evaluate LSTM Model"
   ]
  },
  {
   "cell_type": "code",
   "execution_count": 20,
   "metadata": {},
   "outputs": [
    {
     "name": "stdout",
     "output_type": "stream",
     "text": [
      "Test score of train dataset: 0.013291641138494015\n",
      "Test accuracy of train dataset: 0.9974499940872192\n",
      "Test score of validation dataset: 0.9114207029342651\n",
      "Test accuracy of validation dataset: 0.796999990940094\n"
     ]
    }
   ],
   "source": [
    "# evaluate train and val\n",
    "score = model.evaluate(x_train, y_train, verbose=0)\n",
    "print('Test score of train dataset:', score[0])\n",
    "print('Test accuracy of train dataset:', score[1])\n",
    "score = model.evaluate(x_val, y_val, verbose=0)\n",
    "print('Test score of validation dataset:', score[0])\n",
    "print('Test accuracy of validation dataset:', score[1])"
   ]
  },
  {
   "cell_type": "code",
   "execution_count": 21,
   "metadata": {},
   "outputs": [
    {
     "data": {
      "image/png": "[encoded data removed]",
      "text/plain": [
       "<Figure size 432x288 with 1 Axes>"
      ]
     },
     "metadata": {
      "needs_background": "light"
     },
     "output_type": "display_data"
    },
    {
     "data": {
      "image/png": "[encoded data removed]",
      "text/plain": [
       "<Figure size 432x288 with 1 Axes>"
      ]
     },
     "metadata": {
      "needs_background": "light"
     },
     "output_type": "display_data"
    }
   ],
   "source": [
    "# plot the loss and accuracy of train and val \n",
    "loss_type = \"epoch\"\n",
    "history.loss_plot_loss(loss_type)\n",
    "history.loss_plot_acc(loss_type)"
   ]
  },
  {
   "cell_type": "code",
   "execution_count": 22,
   "metadata": {},
   "outputs": [
    {
     "name": "stdout",
     "output_type": "stream",
     "text": [
      "Test score of test dataset: 0.8923676013946533\n",
      "Test accuracy of test dataset: 0.7958400249481201\n"
     ]
    }
   ],
   "source": [
    "# evaluate test data\n",
    "score = model.evaluate(x_test, y_test, verbose=0)\n",
    "print('Test score of test dataset:', score[0])\n",
    "print('Test accuracy of test dataset:', score[1])"
   ]
  },
  {
   "cell_type": "code",
   "execution_count": null,
   "metadata": {},
   "outputs": [],
   "source": []
  },
  {
   "cell_type": "markdown",
   "metadata": {},
   "source": [
    "## 2. mnist"
   ]
  },
  {
   "cell_type": "markdown",
   "metadata": {},
   "source": [
    "### 2.1 Load Data"
   ]
  },
  {
   "cell_type": "code",
   "execution_count": 23,
   "metadata": {},
   "outputs": [],
   "source": [
    "# reference: https://www.tensorflow.org/guide/keras/rnn\n",
    "import tensorflow as tf\n",
    "import matplotlib.pyplot as plt\n",
    "from tensorflow import keras\n",
    "import numpy as np\n",
    "from keras.preprocessing import sequence\n",
    "from keras.models import Sequential\n",
    "from keras.layers import Dense, Embedding\n",
    "from keras.layers import LSTM,SimpleRNN\n",
    "from keras.datasets import mnist"
   ]
  },
  {
   "cell_type": "code",
   "execution_count": 24,
   "metadata": {},
   "outputs": [],
   "source": [
    "# download the data\n",
    "(x_train, y_train), (x_test, y_test) = mnist.load_data()\n",
    "x_train, x_test = x_train / 255.0, x_test / 255.0\n",
    "# split data into train,val and test\n",
    "x_val = x_train[:10000]\n",
    "x_train = x_train[10000:]\n",
    "y_val = y_train[:10000]\n",
    "y_train = y_train[10000:]"
   ]
  },
  {
   "cell_type": "code",
   "execution_count": 25,
   "metadata": {},
   "outputs": [
    {
     "name": "stdout",
     "output_type": "stream",
     "text": [
      "train_data_shape: (50000, 28, 28)\n",
      "validation_data_shape: (10000, 28, 28)\n",
      "test_data_shape: (10000, 28, 28)\n"
     ]
    }
   ],
   "source": [
    "print(\"train_data_shape:\",x_train.shape)\n",
    "print(\"validation_data_shape:\",x_val.shape)\n",
    "print(\"test_data_shape:\",x_test.shape)"
   ]
  },
  {
   "cell_type": "markdown",
   "metadata": {},
   "source": [
    "### 2.2 RNN Model"
   ]
  },
  {
   "cell_type": "code",
   "execution_count": 26,
   "metadata": {},
   "outputs": [],
   "source": [
    "# create RNN model\n",
    "batch_size = 256\n",
    "model = Sequential()\n",
    "model.add(keras.Input(shape=(28,28)))\n",
    "model.add(SimpleRNN(144,dropout=0.2,recurrent_dropout=0.2))\n",
    "model.add(Dense(72, activation='relu'))\n",
    "model.add(Dense(10, activation='sigmoid'))"
   ]
  },
  {
   "cell_type": "code",
   "execution_count": 27,
   "metadata": {},
   "outputs": [
    {
     "name": "stdout",
     "output_type": "stream",
     "text": [
      "Model: \"sequential_2\"\n",
      "_________________________________________________________________\n",
      " Layer (type)                Output Shape              Param #   \n",
      "=================================================================\n",
      " simple_rnn_1 (SimpleRNN)    (None, 144)               24912     \n",
      "                                                                 \n",
      " dense_2 (Dense)             (None, 72)                10440     \n",
      "                                                                 \n",
      " dense_3 (Dense)             (None, 10)                730       \n",
      "                                                                 \n",
      "=================================================================\n",
      "Total params: 36,082\n",
      "Trainable params: 36,082\n",
      "Non-trainable params: 0\n",
      "_________________________________________________________________\n",
      "None\n"
     ]
    }
   ],
   "source": [
    "print(model.summary())"
   ]
  },
  {
   "cell_type": "markdown",
   "metadata": {},
   "source": [
    "### 2.3 Train RNN Model"
   ]
  },
  {
   "cell_type": "code",
   "execution_count": 28,
   "metadata": {},
   "outputs": [],
   "source": [
    "# plot the loss and acc, set the callbacks\n",
    "# reference https://blog.csdn.net/wyx100/article/details/81096192\n",
    "class Hist_Callbacks(keras.callbacks.Callback):\n",
    "    def on_train_begin(self, logs={}):\n",
    "        self.losses = {'batch':[], 'epoch':[]}\n",
    "        self.accuracy = {'batch':[], 'epoch':[]}\n",
    "        self.val_loss = {'batch':[], 'epoch':[]}\n",
    "        self.val_acc = {'batch':[], 'epoch':[]}\n",
    " \n",
    "    def on_batch_end(self, batch, logs={}):\n",
    "        self.losses['batch'].append(logs.get('loss'))\n",
    "        self.accuracy['batch'].append(logs.get('accuracy'))\n",
    "        self.val_loss['batch'].append(logs.get('val_loss'))\n",
    "        self.val_acc['batch'].append(logs.get('val_accuracy'))\n",
    " \n",
    "    def on_epoch_end(self, batch, logs={}):\n",
    "        self.losses['epoch'].append(logs.get('loss'))\n",
    "        self.accuracy['epoch'].append(logs.get('accuracy'))\n",
    "        self.val_loss['epoch'].append(logs.get('val_loss'))\n",
    "        self.val_acc['epoch'].append(logs.get('val_accuracy'))\n",
    "\n",
    "    def loss_plot_loss(self, loss_type):\n",
    "        iters = range(len(self.losses[loss_type]))\n",
    "        plt.figure()\n",
    "        plt.title('Loss of Model')\n",
    "        plt.ylim(0,1.5)\n",
    "        # plot the loss, train\n",
    "        plt.plot(iters, self.losses[loss_type], 'r', label='train_loss')\n",
    "        # plot the loss, val\n",
    "        plt.plot(iters, self.val_loss[loss_type], 'b', label='val_loss')\n",
    "        plt.grid(True)\n",
    "        plt.xlabel(loss_type)\n",
    "        plt.ylabel('loss')\n",
    "        plt.legend(loc=\"upper right\")\n",
    "        plt.show()\n",
    "        \n",
    "    def loss_plot_acc(self, loss_type):\n",
    "        iters = range(len(self.losses[loss_type]))\n",
    "        plt.figure()\n",
    "        plt.title('Accuracy of Model')\n",
    "        plt.ylim(0, 1)\n",
    "        # plot the acc, train\n",
    "        plt.plot(iters, self.accuracy[loss_type], 'r', label='train_acc')\n",
    "        # plot the acc, val\n",
    "        plt.plot(iters, self.val_acc[loss_type], 'b', label='val_acc')\n",
    "        plt.grid(True)\n",
    "        plt.xlabel(loss_type)\n",
    "        plt.ylabel('acc')\n",
    "        plt.legend(loc=\"upper right\")\n",
    "        plt.show()"
   ]
  },
  {
   "cell_type": "code",
   "execution_count": 29,
   "metadata": {},
   "outputs": [],
   "source": [
    "# create history\n",
    "history = Hist_Callbacks()\n",
    "\n",
    "# set the parameters\n",
    "opt = 'adam'\n",
    "model.compile(loss=keras.losses.SparseCategoricalCrossentropy(from_logits=True),\n",
    "              optimizer = opt,\n",
    "              metrics=['accuracy'])"
   ]
  },
  {
   "cell_type": "code",
   "execution_count": 30,
   "metadata": {
    "scrolled": true
   },
   "outputs": [
    {
     "name": "stdout",
     "output_type": "stream",
     "text": [
      "Epoch 1/10\n",
      "WARNING:tensorflow:AutoGraph could not transform <function Model.make_train_function.<locals>.train_function at 0x00000255EDDA73A8> and will run it as-is.\n",
      "Please report this to the TensorFlow team. When filing the bug, set the verbosity to 10 (on Linux, `export AUTOGRAPH_VERBOSITY=10`) and attach the full output.\n",
      "Cause: 'arguments' object has no attribute 'posonlyargs'\n",
      "To silence this warning, decorate the function with @tf.autograph.experimental.do_not_convert\n",
      "WARNING: AutoGraph could not transform <function Model.make_train_function.<locals>.train_function at 0x00000255EDDA73A8> and will run it as-is.\n",
      "Please report this to the TensorFlow team. When filing the bug, set the verbosity to 10 (on Linux, `export AUTOGRAPH_VERBOSITY=10`) and attach the full output.\n",
      "Cause: 'arguments' object has no attribute 'posonlyargs'\n",
      "To silence this warning, decorate the function with @tf.autograph.experimental.do_not_convert\n"
     ]
    },
    {
     "name": "stderr",
     "output_type": "stream",
     "text": [
      "C:\\Users\\Cappu\\AppData\\Roaming\\Python\\Python37\\site-packages\\tensorflow\\python\\util\\dispatch.py:1096: UserWarning: \"`sparse_categorical_crossentropy` received `from_logits=True`, but the `output` argument was produced by a sigmoid or softmax activation and thus does not represent logits. Was this intended?\"\n",
      "  return dispatch_target(*args, **kwargs)\n"
     ]
    },
    {
     "name": "stdout",
     "output_type": "stream",
     "text": [
      "195/196 [============================>.] - ETA: 0s - loss: 1.0964 - accuracy: 0.6145WARNING:tensorflow:AutoGraph could not transform <function Model.make_test_function.<locals>.test_function at 0x00000255EB498678> and will run it as-is.\n",
      "Please report this to the TensorFlow team. When filing the bug, set the verbosity to 10 (on Linux, `export AUTOGRAPH_VERBOSITY=10`) and attach the full output.\n",
      "Cause: 'arguments' object has no attribute 'posonlyargs'\n",
      "To silence this warning, decorate the function with @tf.autograph.experimental.do_not_convert\n",
      "WARNING: AutoGraph could not transform <function Model.make_test_function.<locals>.test_function at 0x00000255EB498678> and will run it as-is.\n",
      "Please report this to the TensorFlow team. When filing the bug, set the verbosity to 10 (on Linux, `export AUTOGRAPH_VERBOSITY=10`) and attach the full output.\n",
      "Cause: 'arguments' object has no attribute 'posonlyargs'\n",
      "To silence this warning, decorate the function with @tf.autograph.experimental.do_not_convert\n",
      "196/196 [==============================] - 18s 84ms/step - loss: 1.0961 - accuracy: 0.6146 - val_loss: 0.4730 - val_accuracy: 0.8438\n",
      "Epoch 2/10\n",
      "196/196 [==============================] - 15s 77ms/step - loss: 0.6499 - accuracy: 0.7787 - val_loss: 0.3964 - val_accuracy: 0.8800\n",
      "Epoch 3/10\n",
      "196/196 [==============================] - 16s 81ms/step - loss: 0.5449 - accuracy: 0.8186 - val_loss: 0.2995 - val_accuracy: 0.9118\n",
      "Epoch 4/10\n",
      "196/196 [==============================] - 16s 81ms/step - loss: 0.4835 - accuracy: 0.8434 - val_loss: 0.2816 - val_accuracy: 0.9176\n",
      "Epoch 5/10\n",
      "196/196 [==============================] - 13s 64ms/step - loss: 0.4461 - accuracy: 0.8584 - val_loss: 0.2550 - val_accuracy: 0.9292\n",
      "Epoch 6/10\n",
      "196/196 [==============================] - 15s 74ms/step - loss: 0.4194 - accuracy: 0.8684 - val_loss: 0.2454 - val_accuracy: 0.9285\n",
      "Epoch 7/10\n",
      "196/196 [==============================] - 14s 70ms/step - loss: 0.3926 - accuracy: 0.8766 - val_loss: 0.2209 - val_accuracy: 0.9376\n",
      "Epoch 8/10\n",
      "196/196 [==============================] - 14s 71ms/step - loss: 0.3718 - accuracy: 0.8866 - val_loss: 0.1943 - val_accuracy: 0.9476\n",
      "Epoch 9/10\n",
      "196/196 [==============================] - 13s 69ms/step - loss: 0.3481 - accuracy: 0.8941 - val_loss: 0.2040 - val_accuracy: 0.9408\n",
      "Epoch 10/10\n",
      "196/196 [==============================] - 15s 78ms/step - loss: 0.3326 - accuracy: 0.8991 - val_loss: 0.1922 - val_accuracy: 0.9493\n"
     ]
    },
    {
     "data": {
      "text/plain": [
       "<keras.callbacks.History at 0x255eddcd688>"
      ]
     },
     "execution_count": 30,
     "metadata": {},
     "output_type": "execute_result"
    }
   ],
   "source": [
    "# train model\n",
    "model.fit(x_train, y_train,batch_size=batch_size,\n",
    "                    epochs=10,\n",
    "                    validation_data=(x_val, y_val),\n",
    "                    callbacks = [history])"
   ]
  },
  {
   "cell_type": "markdown",
   "metadata": {},
   "source": [
    "### 2.4 Evaluate RNN Model"
   ]
  },
  {
   "cell_type": "code",
   "execution_count": 31,
   "metadata": {},
   "outputs": [
    {
     "name": "stdout",
     "output_type": "stream",
     "text": [
      "Test score of train dataset: 0.17598779499530792\n",
      "Test accuracy of train dataset: 0.9479399919509888\n",
      "Test score of validation dataset: 0.1921755075454712\n",
      "Test accuracy of validation dataset: 0.9492999911308289\n"
     ]
    }
   ],
   "source": [
    "# evaluate train and val\n",
    "score = model.evaluate(x_train, y_train, verbose=0)\n",
    "print('Test score of train dataset:', score[0])\n",
    "print('Test accuracy of train dataset:', score[1])\n",
    "score = model.evaluate(x_val, y_val, verbose=0)\n",
    "print('Test score of validation dataset:', score[0])\n",
    "print('Test accuracy of validation dataset:', score[1])"
   ]
  },
  {
   "cell_type": "code",
   "execution_count": 32,
   "metadata": {},
   "outputs": [
    {
     "data": {
      "image/png": "[encoded data removed]",
      "text/plain": [
       "<Figure size 432x288 with 1 Axes>"
      ]
     },
     "metadata": {
      "needs_background": "light"
     },
     "output_type": "display_data"
    },
    {
     "data": {
      "image/png": "[encoded data removed]",
      "text/plain": [
       "<Figure size 432x288 with 1 Axes>"
      ]
     },
     "metadata": {
      "needs_background": "light"
     },
     "output_type": "display_data"
    }
   ],
   "source": [
    "# plot the loss and accuracy of train and val \n",
    "loss_type = \"epoch\"\n",
    "history.loss_plot_loss(loss_type)\n",
    "history.loss_plot_acc(loss_type)"
   ]
  },
  {
   "cell_type": "code",
   "execution_count": 33,
   "metadata": {},
   "outputs": [
    {
     "name": "stdout",
     "output_type": "stream",
     "text": [
      "Test score of test dataset: 0.1669679880142212\n",
      "Test accuracy of test dataset: 0.9527000188827515\n"
     ]
    }
   ],
   "source": [
    "# evaluate test data\n",
    "score = model.evaluate(x_test, y_test, verbose=0)\n",
    "print('Test score of test dataset:', score[0])\n",
    "print('Test accuracy of test dataset:', score[1])"
   ]
  },
  {
   "cell_type": "markdown",
   "metadata": {},
   "source": [
    "### 2.5 LSTM Model"
   ]
  },
  {
   "cell_type": "code",
   "execution_count": 34,
   "metadata": {},
   "outputs": [],
   "source": [
    "# create RNN model\n",
    "batch_size = 256\n",
    "model = Sequential()\n",
    "model.add(keras.Input(shape=(28,28)))\n",
    "model.add(LSTM(144,dropout=0.2,recurrent_dropout=0.2))\n",
    "model.add(Dense(72, activation='relu'))\n",
    "model.add(Dense(10, activation='sigmoid'))"
   ]
  },
  {
   "cell_type": "code",
   "execution_count": 35,
   "metadata": {},
   "outputs": [
    {
     "name": "stdout",
     "output_type": "stream",
     "text": [
      "Model: \"sequential_3\"\n",
      "_________________________________________________________________\n",
      " Layer (type)                Output Shape              Param #   \n",
      "=================================================================\n",
      " lstm_1 (LSTM)               (None, 144)               99648     \n",
      "                                                                 \n",
      " dense_4 (Dense)             (None, 72)                10440     \n",
      "                                                                 \n",
      " dense_5 (Dense)             (None, 10)                730       \n",
      "                                                                 \n",
      "=================================================================\n",
      "Total params: 110,818\n",
      "Trainable params: 110,818\n",
      "Non-trainable params: 0\n",
      "_________________________________________________________________\n",
      "None\n"
     ]
    }
   ],
   "source": [
    "print(model.summary())"
   ]
  },
  {
   "cell_type": "markdown",
   "metadata": {},
   "source": [
    "### 2.6 Train LSTM Model"
   ]
  },
  {
   "cell_type": "code",
   "execution_count": 36,
   "metadata": {},
   "outputs": [],
   "source": [
    "# plot the loss and acc, set the callbacks\n",
    "# reference https://blog.csdn.net/wyx100/article/details/81096192\n",
    "class Hist_Callbacks(keras.callbacks.Callback):\n",
    "    def on_train_begin(self, logs={}):\n",
    "        self.losses = {'batch':[], 'epoch':[]}\n",
    "        self.accuracy = {'batch':[], 'epoch':[]}\n",
    "        self.val_loss = {'batch':[], 'epoch':[]}\n",
    "        self.val_acc = {'batch':[], 'epoch':[]}\n",
    " \n",
    "    def on_batch_end(self, batch, logs={}):\n",
    "        self.losses['batch'].append(logs.get('loss'))\n",
    "        self.accuracy['batch'].append(logs.get('accuracy'))\n",
    "        self.val_loss['batch'].append(logs.get('val_loss'))\n",
    "        self.val_acc['batch'].append(logs.get('val_accuracy'))\n",
    " \n",
    "    def on_epoch_end(self, batch, logs={}):\n",
    "        self.losses['epoch'].append(logs.get('loss'))\n",
    "        self.accuracy['epoch'].append(logs.get('accuracy'))\n",
    "        self.val_loss['epoch'].append(logs.get('val_loss'))\n",
    "        self.val_acc['epoch'].append(logs.get('val_accuracy'))\n",
    "\n",
    "    def loss_plot_loss(self, loss_type):\n",
    "        iters = range(len(self.losses[loss_type]))\n",
    "        plt.figure()\n",
    "        plt.title('Loss of Model')\n",
    "        plt.ylim(0,1.5)\n",
    "        # plot the loss, train\n",
    "        plt.plot(iters, self.losses[loss_type], 'r', label='train_loss')\n",
    "        # plot the loss, val\n",
    "        plt.plot(iters, self.val_loss[loss_type], 'b', label='val_loss')\n",
    "        plt.grid(True)\n",
    "        plt.xlabel(loss_type)\n",
    "        plt.ylabel('loss')\n",
    "        plt.legend(loc=\"upper right\")\n",
    "        plt.show()\n",
    "        \n",
    "    def loss_plot_acc(self, loss_type):\n",
    "        iters = range(len(self.losses[loss_type]))\n",
    "        plt.figure()\n",
    "        plt.title('Accuracy of Model')\n",
    "        plt.ylim(0, 1)\n",
    "        # plot the acc, train\n",
    "        plt.plot(iters, self.accuracy[loss_type], 'r', label='train_acc')\n",
    "        # plot the acc, val\n",
    "        plt.plot(iters, self.val_acc[loss_type], 'b', label='val_acc')\n",
    "        plt.grid(True)\n",
    "        plt.xlabel(loss_type)\n",
    "        plt.ylabel('acc')\n",
    "        plt.legend(loc=\"upper right\")\n",
    "        plt.show()"
   ]
  },
  {
   "cell_type": "code",
   "execution_count": 37,
   "metadata": {},
   "outputs": [],
   "source": [
    "# create history\n",
    "history = Hist_Callbacks()\n",
    "\n",
    "# set the parameters\n",
    "opt = 'adam'\n",
    "model.compile(loss=keras.losses.SparseCategoricalCrossentropy(from_logits=True),\n",
    "              optimizer = opt,\n",
    "              metrics=['accuracy'])"
   ]
  },
  {
   "cell_type": "code",
   "execution_count": 38,
   "metadata": {
    "scrolled": true
   },
   "outputs": [
    {
     "name": "stdout",
     "output_type": "stream",
     "text": [
      "Epoch 1/10\n",
      "WARNING:tensorflow:AutoGraph could not transform <function Model.make_train_function.<locals>.train_function at 0x00000255EB693678> and will run it as-is.\n",
      "Please report this to the TensorFlow team. When filing the bug, set the verbosity to 10 (on Linux, `export AUTOGRAPH_VERBOSITY=10`) and attach the full output.\n",
      "Cause: 'arguments' object has no attribute 'posonlyargs'\n",
      "To silence this warning, decorate the function with @tf.autograph.experimental.do_not_convert\n",
      "WARNING: AutoGraph could not transform <function Model.make_train_function.<locals>.train_function at 0x00000255EB693678> and will run it as-is.\n",
      "Please report this to the TensorFlow team. When filing the bug, set the verbosity to 10 (on Linux, `export AUTOGRAPH_VERBOSITY=10`) and attach the full output.\n",
      "Cause: 'arguments' object has no attribute 'posonlyargs'\n",
      "To silence this warning, decorate the function with @tf.autograph.experimental.do_not_convert\n",
      "196/196 [==============================] - ETA: 0s - loss: 0.8231 - accuracy: 0.7225WARNING:tensorflow:AutoGraph could not transform <function Model.make_test_function.<locals>.test_function at 0x00000255960F44C8> and will run it as-is.\n",
      "Please report this to the TensorFlow team. When filing the bug, set the verbosity to 10 (on Linux, `export AUTOGRAPH_VERBOSITY=10`) and attach the full output.\n",
      "Cause: 'arguments' object has no attribute 'posonlyargs'\n",
      "To silence this warning, decorate the function with @tf.autograph.experimental.do_not_convert\n",
      "WARNING: AutoGraph could not transform <function Model.make_test_function.<locals>.test_function at 0x00000255960F44C8> and will run it as-is.\n",
      "Please report this to the TensorFlow team. When filing the bug, set the verbosity to 10 (on Linux, `export AUTOGRAPH_VERBOSITY=10`) and attach the full output.\n",
      "Cause: 'arguments' object has no attribute 'posonlyargs'\n",
      "To silence this warning, decorate the function with @tf.autograph.experimental.do_not_convert\n",
      "196/196 [==============================] - 39s 173ms/step - loss: 0.8231 - accuracy: 0.7225 - val_loss: 0.2689 - val_accuracy: 0.9179\n",
      "Epoch 2/10\n",
      "196/196 [==============================] - 32s 162ms/step - loss: 0.2694 - accuracy: 0.9139 - val_loss: 0.1584 - val_accuracy: 0.9513\n",
      "Epoch 3/10\n",
      "196/196 [==============================] - 34s 172ms/step - loss: 0.1827 - accuracy: 0.9425 - val_loss: 0.1278 - val_accuracy: 0.9605\n",
      "Epoch 4/10\n",
      "196/196 [==============================] - 36s 184ms/step - loss: 0.1461 - accuracy: 0.9534 - val_loss: 0.1033 - val_accuracy: 0.9686\n",
      "Epoch 5/10\n",
      "196/196 [==============================] - 31s 160ms/step - loss: 0.1250 - accuracy: 0.9617 - val_loss: 0.0865 - val_accuracy: 0.9751\n",
      "Epoch 6/10\n",
      "196/196 [==============================] - 35s 177ms/step - loss: 0.1029 - accuracy: 0.9672 - val_loss: 0.0735 - val_accuracy: 0.9794\n",
      "Epoch 7/10\n",
      "196/196 [==============================] - 34s 174ms/step - loss: 0.0897 - accuracy: 0.9719 - val_loss: 0.0694 - val_accuracy: 0.9808\n",
      "Epoch 8/10\n",
      "196/196 [==============================] - 34s 172ms/step - loss: 0.0809 - accuracy: 0.9748 - val_loss: 0.0735 - val_accuracy: 0.9786\n",
      "Epoch 9/10\n",
      "196/196 [==============================] - 37s 187ms/step - loss: 0.0756 - accuracy: 0.9768 - val_loss: 0.0567 - val_accuracy: 0.9828\n",
      "Epoch 10/10\n",
      "196/196 [==============================] - 36s 184ms/step - loss: 0.0638 - accuracy: 0.9802 - val_loss: 0.0598 - val_accuracy: 0.9826\n"
     ]
    },
    {
     "data": {
      "text/plain": [
       "<keras.callbacks.History at 0x255eb6b8b48>"
      ]
     },
     "execution_count": 38,
     "metadata": {},
     "output_type": "execute_result"
    }
   ],
   "source": [
    "# train model\n",
    "model.fit(x_train, y_train,batch_size=batch_size,\n",
    "                    epochs=10,\n",
    "                    validation_data=(x_val, y_val),\n",
    "                    callbacks = [history])"
   ]
  },
  {
   "cell_type": "markdown",
   "metadata": {},
   "source": [
    "### 2.7 Evaluate LSTM Model"
   ]
  },
  {
   "cell_type": "code",
   "execution_count": 39,
   "metadata": {},
   "outputs": [
    {
     "name": "stdout",
     "output_type": "stream",
     "text": [
      "Test score of train dataset: 0.0389813631772995\n",
      "Test accuracy of train dataset: 0.987779974937439\n",
      "Test score of validation dataset: 0.05976995825767517\n",
      "Test accuracy of validation dataset: 0.9825999736785889\n"
     ]
    }
   ],
   "source": [
    "# evaluate train and val\n",
    "score = model.evaluate(x_train, y_train, verbose=0)\n",
    "print('Test score of train dataset:', score[0])\n",
    "print('Test accuracy of train dataset:', score[1])\n",
    "score = model.evaluate(x_val, y_val, verbose=0)\n",
    "print('Test score of validation dataset:', score[0])\n",
    "print('Test accuracy of validation dataset:', score[1])"
   ]
  },
  {
   "cell_type": "code",
   "execution_count": 40,
   "metadata": {},
   "outputs": [
    {
     "data": {
      "image/png": "[encoded data removed]",
      "text/plain": [
       "<Figure size 432x288 with 1 Axes>"
      ]
     },
     "metadata": {
      "needs_background": "light"
     },
     "output_type": "display_data"
    },
    {
     "data": {
      "image/png": "[encoded data removed]",
      "text/plain": [
       "<Figure size 432x288 with 1 Axes>"
      ]
     },
     "metadata": {
      "needs_background": "light"
     },
     "output_type": "display_data"
    }
   ],
   "source": [
    "# plot the loss and accuracy of train and val \n",
    "loss_type = \"epoch\"\n",
    "history.loss_plot_loss(loss_type)\n",
    "history.loss_plot_acc(loss_type)"
   ]
  },
  {
   "cell_type": "code",
   "execution_count": 41,
   "metadata": {},
   "outputs": [
    {
     "name": "stdout",
     "output_type": "stream",
     "text": [
      "Test score of test dataset: 0.05602298676967621\n",
      "Test accuracy of test dataset: 0.9807999730110168\n"
     ]
    }
   ],
   "source": [
    "# evaluate test data\n",
    "score = model.evaluate(x_test, y_test, verbose=0)\n",
    "print('Test score of test dataset:', score[0])\n",
    "print('Test accuracy of test dataset:', score[1])"
   ]
  },
  {
   "cell_type": "code",
   "execution_count": null,
   "metadata": {},
   "outputs": [],
   "source": []
  },
  {
   "cell_type": "code",
   "execution_count": null,
   "metadata": {},
   "outputs": [],
   "source": []
  },
  {
   "cell_type": "code",
   "execution_count": null,
   "metadata": {},
   "outputs": [],
   "source": []
  },
  {
   "cell_type": "code",
   "execution_count": null,
   "metadata": {},
   "outputs": [],
   "source": []
  },
  {
   "cell_type": "code",
   "execution_count": null,
   "metadata": {},
   "outputs": [],
   "source": []
  }
 ],
 "metadata": {
  "kernelspec": {
   "display_name": "Python 3",
   "language": "python",
   "name": "python3"
  },
  "language_info": {
   "codemirror_mode": {
    "name": "ipython",
    "version": 3
   },
   "file_extension": ".py",
   "mimetype": "text/x-python",
   "name": "python",
   "nbconvert_exporter": "python",
   "pygments_lexer": "ipython3",
   "version": "3.7.6"
  }
 },
 "nbformat": 4,
 "nbformat_minor": 4
}
