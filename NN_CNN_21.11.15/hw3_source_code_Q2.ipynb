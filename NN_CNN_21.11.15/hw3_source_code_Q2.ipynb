{
 "cells": [
  {
   "cell_type": "code",
   "execution_count": 1,
   "metadata": {},
   "outputs": [],
   "source": [
    "import numpy as np\n",
    "import torch\n",
    "import torchvision\n",
    "import torchvision.transforms as transforms\n",
    "import torch.utils.data as data_utils\n",
    "import time\n",
    "import sklearn\n",
    "from sklearn.metrics import confusion_matrix\n",
    "from tqdm import tqdm, trange\n",
    "import pandas as pd\n",
    "from sklearn.metrics import classification_report\n",
    "import torch.nn as nn\n",
    "import torch.nn.functional as F\n",
    "import matplotlib.pyplot as plt"
   ]
  },
  {
   "cell_type": "code",
   "execution_count": 2,
   "metadata": {},
   "outputs": [],
   "source": [
    "# read the file\n",
    "df = pd.read_csv('spambase.data', header=None)"
   ]
  },
  {
   "cell_type": "code",
   "execution_count": 3,
   "metadata": {
    "scrolled": true
   },
   "outputs": [
    {
     "name": "stdout",
     "output_type": "stream",
     "text": [
      "(4601, 58)\n"
     ]
    },
    {
     "data": {
      "text/html": [
       "<div>\n",
       "<style scoped>\n",
       "    .dataframe tbody tr th:only-of-type {\n",
       "        vertical-align: middle;\n",
       "    }\n",
       "\n",
       "    .dataframe tbody tr th {\n",
       "        vertical-align: top;\n",
       "    }\n",
       "\n",
       "    .dataframe thead th {\n",
       "        text-align: right;\n",
       "    }\n",
       "</style>\n",
       "<table border=\"1\" class=\"dataframe\">\n",
       "  <thead>\n",
       "    <tr style=\"text-align: right;\">\n",
       "      <th></th>\n",
       "      <th>0</th>\n",
       "      <th>1</th>\n",
       "      <th>2</th>\n",
       "      <th>3</th>\n",
       "      <th>4</th>\n",
       "      <th>5</th>\n",
       "      <th>6</th>\n",
       "      <th>7</th>\n",
       "      <th>8</th>\n",
       "      <th>9</th>\n",
       "      <th>...</th>\n",
       "      <th>48</th>\n",
       "      <th>49</th>\n",
       "      <th>50</th>\n",
       "      <th>51</th>\n",
       "      <th>52</th>\n",
       "      <th>53</th>\n",
       "      <th>54</th>\n",
       "      <th>55</th>\n",
       "      <th>56</th>\n",
       "      <th>57</th>\n",
       "    </tr>\n",
       "  </thead>\n",
       "  <tbody>\n",
       "    <tr>\n",
       "      <th>0</th>\n",
       "      <td>0.00</td>\n",
       "      <td>0.64</td>\n",
       "      <td>0.64</td>\n",
       "      <td>0.0</td>\n",
       "      <td>0.32</td>\n",
       "      <td>0.00</td>\n",
       "      <td>0.00</td>\n",
       "      <td>0.00</td>\n",
       "      <td>0.00</td>\n",
       "      <td>0.00</td>\n",
       "      <td>...</td>\n",
       "      <td>0.000</td>\n",
       "      <td>0.000</td>\n",
       "      <td>0.0</td>\n",
       "      <td>0.778</td>\n",
       "      <td>0.000</td>\n",
       "      <td>0.000</td>\n",
       "      <td>3.756</td>\n",
       "      <td>61</td>\n",
       "      <td>278</td>\n",
       "      <td>1</td>\n",
       "    </tr>\n",
       "    <tr>\n",
       "      <th>1</th>\n",
       "      <td>0.21</td>\n",
       "      <td>0.28</td>\n",
       "      <td>0.50</td>\n",
       "      <td>0.0</td>\n",
       "      <td>0.14</td>\n",
       "      <td>0.28</td>\n",
       "      <td>0.21</td>\n",
       "      <td>0.07</td>\n",
       "      <td>0.00</td>\n",
       "      <td>0.94</td>\n",
       "      <td>...</td>\n",
       "      <td>0.000</td>\n",
       "      <td>0.132</td>\n",
       "      <td>0.0</td>\n",
       "      <td>0.372</td>\n",
       "      <td>0.180</td>\n",
       "      <td>0.048</td>\n",
       "      <td>5.114</td>\n",
       "      <td>101</td>\n",
       "      <td>1028</td>\n",
       "      <td>1</td>\n",
       "    </tr>\n",
       "    <tr>\n",
       "      <th>2</th>\n",
       "      <td>0.06</td>\n",
       "      <td>0.00</td>\n",
       "      <td>0.71</td>\n",
       "      <td>0.0</td>\n",
       "      <td>1.23</td>\n",
       "      <td>0.19</td>\n",
       "      <td>0.19</td>\n",
       "      <td>0.12</td>\n",
       "      <td>0.64</td>\n",
       "      <td>0.25</td>\n",
       "      <td>...</td>\n",
       "      <td>0.010</td>\n",
       "      <td>0.143</td>\n",
       "      <td>0.0</td>\n",
       "      <td>0.276</td>\n",
       "      <td>0.184</td>\n",
       "      <td>0.010</td>\n",
       "      <td>9.821</td>\n",
       "      <td>485</td>\n",
       "      <td>2259</td>\n",
       "      <td>1</td>\n",
       "    </tr>\n",
       "    <tr>\n",
       "      <th>3</th>\n",
       "      <td>0.00</td>\n",
       "      <td>0.00</td>\n",
       "      <td>0.00</td>\n",
       "      <td>0.0</td>\n",
       "      <td>0.63</td>\n",
       "      <td>0.00</td>\n",
       "      <td>0.31</td>\n",
       "      <td>0.63</td>\n",
       "      <td>0.31</td>\n",
       "      <td>0.63</td>\n",
       "      <td>...</td>\n",
       "      <td>0.000</td>\n",
       "      <td>0.137</td>\n",
       "      <td>0.0</td>\n",
       "      <td>0.137</td>\n",
       "      <td>0.000</td>\n",
       "      <td>0.000</td>\n",
       "      <td>3.537</td>\n",
       "      <td>40</td>\n",
       "      <td>191</td>\n",
       "      <td>1</td>\n",
       "    </tr>\n",
       "    <tr>\n",
       "      <th>4</th>\n",
       "      <td>0.00</td>\n",
       "      <td>0.00</td>\n",
       "      <td>0.00</td>\n",
       "      <td>0.0</td>\n",
       "      <td>0.63</td>\n",
       "      <td>0.00</td>\n",
       "      <td>0.31</td>\n",
       "      <td>0.63</td>\n",
       "      <td>0.31</td>\n",
       "      <td>0.63</td>\n",
       "      <td>...</td>\n",
       "      <td>0.000</td>\n",
       "      <td>0.135</td>\n",
       "      <td>0.0</td>\n",
       "      <td>0.135</td>\n",
       "      <td>0.000</td>\n",
       "      <td>0.000</td>\n",
       "      <td>3.537</td>\n",
       "      <td>40</td>\n",
       "      <td>191</td>\n",
       "      <td>1</td>\n",
       "    </tr>\n",
       "    <tr>\n",
       "      <th>...</th>\n",
       "      <td>...</td>\n",
       "      <td>...</td>\n",
       "      <td>...</td>\n",
       "      <td>...</td>\n",
       "      <td>...</td>\n",
       "      <td>...</td>\n",
       "      <td>...</td>\n",
       "      <td>...</td>\n",
       "      <td>...</td>\n",
       "      <td>...</td>\n",
       "      <td>...</td>\n",
       "      <td>...</td>\n",
       "      <td>...</td>\n",
       "      <td>...</td>\n",
       "      <td>...</td>\n",
       "      <td>...</td>\n",
       "      <td>...</td>\n",
       "      <td>...</td>\n",
       "      <td>...</td>\n",
       "      <td>...</td>\n",
       "      <td>...</td>\n",
       "    </tr>\n",
       "    <tr>\n",
       "      <th>4596</th>\n",
       "      <td>0.31</td>\n",
       "      <td>0.00</td>\n",
       "      <td>0.62</td>\n",
       "      <td>0.0</td>\n",
       "      <td>0.00</td>\n",
       "      <td>0.31</td>\n",
       "      <td>0.00</td>\n",
       "      <td>0.00</td>\n",
       "      <td>0.00</td>\n",
       "      <td>0.00</td>\n",
       "      <td>...</td>\n",
       "      <td>0.000</td>\n",
       "      <td>0.232</td>\n",
       "      <td>0.0</td>\n",
       "      <td>0.000</td>\n",
       "      <td>0.000</td>\n",
       "      <td>0.000</td>\n",
       "      <td>1.142</td>\n",
       "      <td>3</td>\n",
       "      <td>88</td>\n",
       "      <td>0</td>\n",
       "    </tr>\n",
       "    <tr>\n",
       "      <th>4597</th>\n",
       "      <td>0.00</td>\n",
       "      <td>0.00</td>\n",
       "      <td>0.00</td>\n",
       "      <td>0.0</td>\n",
       "      <td>0.00</td>\n",
       "      <td>0.00</td>\n",
       "      <td>0.00</td>\n",
       "      <td>0.00</td>\n",
       "      <td>0.00</td>\n",
       "      <td>0.00</td>\n",
       "      <td>...</td>\n",
       "      <td>0.000</td>\n",
       "      <td>0.000</td>\n",
       "      <td>0.0</td>\n",
       "      <td>0.353</td>\n",
       "      <td>0.000</td>\n",
       "      <td>0.000</td>\n",
       "      <td>1.555</td>\n",
       "      <td>4</td>\n",
       "      <td>14</td>\n",
       "      <td>0</td>\n",
       "    </tr>\n",
       "    <tr>\n",
       "      <th>4598</th>\n",
       "      <td>0.30</td>\n",
       "      <td>0.00</td>\n",
       "      <td>0.30</td>\n",
       "      <td>0.0</td>\n",
       "      <td>0.00</td>\n",
       "      <td>0.00</td>\n",
       "      <td>0.00</td>\n",
       "      <td>0.00</td>\n",
       "      <td>0.00</td>\n",
       "      <td>0.00</td>\n",
       "      <td>...</td>\n",
       "      <td>0.102</td>\n",
       "      <td>0.718</td>\n",
       "      <td>0.0</td>\n",
       "      <td>0.000</td>\n",
       "      <td>0.000</td>\n",
       "      <td>0.000</td>\n",
       "      <td>1.404</td>\n",
       "      <td>6</td>\n",
       "      <td>118</td>\n",
       "      <td>0</td>\n",
       "    </tr>\n",
       "    <tr>\n",
       "      <th>4599</th>\n",
       "      <td>0.96</td>\n",
       "      <td>0.00</td>\n",
       "      <td>0.00</td>\n",
       "      <td>0.0</td>\n",
       "      <td>0.32</td>\n",
       "      <td>0.00</td>\n",
       "      <td>0.00</td>\n",
       "      <td>0.00</td>\n",
       "      <td>0.00</td>\n",
       "      <td>0.00</td>\n",
       "      <td>...</td>\n",
       "      <td>0.000</td>\n",
       "      <td>0.057</td>\n",
       "      <td>0.0</td>\n",
       "      <td>0.000</td>\n",
       "      <td>0.000</td>\n",
       "      <td>0.000</td>\n",
       "      <td>1.147</td>\n",
       "      <td>5</td>\n",
       "      <td>78</td>\n",
       "      <td>0</td>\n",
       "    </tr>\n",
       "    <tr>\n",
       "      <th>4600</th>\n",
       "      <td>0.00</td>\n",
       "      <td>0.00</td>\n",
       "      <td>0.65</td>\n",
       "      <td>0.0</td>\n",
       "      <td>0.00</td>\n",
       "      <td>0.00</td>\n",
       "      <td>0.00</td>\n",
       "      <td>0.00</td>\n",
       "      <td>0.00</td>\n",
       "      <td>0.00</td>\n",
       "      <td>...</td>\n",
       "      <td>0.000</td>\n",
       "      <td>0.000</td>\n",
       "      <td>0.0</td>\n",
       "      <td>0.125</td>\n",
       "      <td>0.000</td>\n",
       "      <td>0.000</td>\n",
       "      <td>1.250</td>\n",
       "      <td>5</td>\n",
       "      <td>40</td>\n",
       "      <td>0</td>\n",
       "    </tr>\n",
       "  </tbody>\n",
       "</table>\n",
       "<p>4601 rows × 58 columns</p>\n",
       "</div>"
      ],
      "text/plain": [
       "        0     1     2    3     4     5     6     7     8     9   ...     48  \\\n",
       "0     0.00  0.64  0.64  0.0  0.32  0.00  0.00  0.00  0.00  0.00  ...  0.000   \n",
       "1     0.21  0.28  0.50  0.0  0.14  0.28  0.21  0.07  0.00  0.94  ...  0.000   \n",
       "2     0.06  0.00  0.71  0.0  1.23  0.19  0.19  0.12  0.64  0.25  ...  0.010   \n",
       "3     0.00  0.00  0.00  0.0  0.63  0.00  0.31  0.63  0.31  0.63  ...  0.000   \n",
       "4     0.00  0.00  0.00  0.0  0.63  0.00  0.31  0.63  0.31  0.63  ...  0.000   \n",
       "...    ...   ...   ...  ...   ...   ...   ...   ...   ...   ...  ...    ...   \n",
       "4596  0.31  0.00  0.62  0.0  0.00  0.31  0.00  0.00  0.00  0.00  ...  0.000   \n",
       "4597  0.00  0.00  0.00  0.0  0.00  0.00  0.00  0.00  0.00  0.00  ...  0.000   \n",
       "4598  0.30  0.00  0.30  0.0  0.00  0.00  0.00  0.00  0.00  0.00  ...  0.102   \n",
       "4599  0.96  0.00  0.00  0.0  0.32  0.00  0.00  0.00  0.00  0.00  ...  0.000   \n",
       "4600  0.00  0.00  0.65  0.0  0.00  0.00  0.00  0.00  0.00  0.00  ...  0.000   \n",
       "\n",
       "         49   50     51     52     53     54   55    56  57  \n",
       "0     0.000  0.0  0.778  0.000  0.000  3.756   61   278   1  \n",
       "1     0.132  0.0  0.372  0.180  0.048  5.114  101  1028   1  \n",
       "2     0.143  0.0  0.276  0.184  0.010  9.821  485  2259   1  \n",
       "3     0.137  0.0  0.137  0.000  0.000  3.537   40   191   1  \n",
       "4     0.135  0.0  0.135  0.000  0.000  3.537   40   191   1  \n",
       "...     ...  ...    ...    ...    ...    ...  ...   ...  ..  \n",
       "4596  0.232  0.0  0.000  0.000  0.000  1.142    3    88   0  \n",
       "4597  0.000  0.0  0.353  0.000  0.000  1.555    4    14   0  \n",
       "4598  0.718  0.0  0.000  0.000  0.000  1.404    6   118   0  \n",
       "4599  0.057  0.0  0.000  0.000  0.000  1.147    5    78   0  \n",
       "4600  0.000  0.0  0.125  0.000  0.000  1.250    5    40   0  \n",
       "\n",
       "[4601 rows x 58 columns]"
      ]
     },
     "execution_count": 3,
     "metadata": {},
     "output_type": "execute_result"
    }
   ],
   "source": [
    "print(df.shape)\n",
    "df"
   ]
  },
  {
   "cell_type": "code",
   "execution_count": 4,
   "metadata": {},
   "outputs": [
    {
     "name": "stdout",
     "output_type": "stream",
     "text": [
      "data_train: (3000, 58) data_vali: (900, 58) data_test: (701, 58)\n"
     ]
    }
   ],
   "source": [
    "# convert to tensor and store to the loader\n",
    "# refer link: https://newbedev.com/convert-pandas-dataframe-to-pytorch-tensor\n",
    "# set the data type and random\n",
    "data = pd.DataFrame(df,dtype=np.float32)\n",
    "data = sklearn.utils.shuffle(data)\n",
    "# Nomalize the features\n",
    "data = data.apply(lambda x: (x - np.min(x)) / (np.max(x) - np.min(x)))\n",
    "data_train = data.iloc[:3000,:]\n",
    "data_vali = data.iloc[3000:3900,:]\n",
    "data_test = data.iloc[3900:,:]\n",
    "print(\"data_train:\",data_train.shape,\"data_vali:\",data_vali.shape,\"data_test:\",data_test.shape)"
   ]
  },
  {
   "cell_type": "code",
   "execution_count": 5,
   "metadata": {},
   "outputs": [],
   "source": [
    "# train loader\n",
    "batch_size = 10\n",
    "train_target = torch.tensor(data_train[57].values.astype(int))\n",
    "train_target = train_target.type(torch.LongTensor)\n",
    "train = torch.tensor(data_train.drop(57, axis = 1).values.astype(np.float32)) \n",
    "train_tensor = data_utils.TensorDataset(train, train_target) \n",
    "train_loader = data_utils.DataLoader(dataset = train_tensor, batch_size = batch_size, shuffle = False)\n",
    "# validation loader\n",
    "vali_target = torch.tensor(data_vali[57].values.astype(int))\n",
    "vali_target = vali_target.type(torch.LongTensor)\n",
    "vali = torch.tensor(data_vali.drop(57, axis = 1).values.astype(np.float32)) \n",
    "vali_tensor = data_utils.TensorDataset(vali, vali_target) \n",
    "vali_loader = data_utils.DataLoader(dataset = vali_tensor, batch_size = batch_size, shuffle = False)\n",
    "# test loader\n",
    "test_target = torch.tensor(data_test[57].values.astype(int))\n",
    "test_target = test_target.type(torch.LongTensor)\n",
    "test = torch.tensor(data_test.drop(57, axis = 1).values.astype(np.float32)) \n",
    "test_tensor = data_utils.TensorDataset(test, test_target) \n",
    "test_loader = data_utils.DataLoader(dataset = test_tensor, batch_size = batch_size, shuffle = False)\n",
    "\n",
    "# class labels\n",
    "classes = (\"normal\",\"spam\")"
   ]
  },
  {
   "cell_type": "markdown",
   "metadata": {},
   "source": [
    "### Conclution with function "
   ]
  },
  {
   "cell_type": "code",
   "execution_count": 6,
   "metadata": {},
   "outputs": [],
   "source": [
    "def load_spam_data(file_path,batch_size):\n",
    "    df = pd.read_csv(file_path, header=None)\n",
    "    # convert to tensor and store to the loader\n",
    "    # refer link: https://newbedev.com/convert-pandas-dataframe-to-pytorch-tensor\n",
    "    # set the data type and random\n",
    "    data = pd.DataFrame(df,dtype=np.float32)\n",
    "    data = sklearn.utils.shuffle(data)\n",
    "    # Nomalize the features\n",
    "    data = data.apply(lambda x: (x - np.min(x)) / (np.max(x) - np.min(x)))\n",
    "    data_train = data.iloc[:3000,:]\n",
    "    data_vali = data.iloc[3000:3900,:]\n",
    "    data_test = data.iloc[3900:,:]\n",
    "    print(\"data_train:\",data_train.shape,\"data_vali:\",data_vali.shape,\"data_test:\",data_test.shape)\n",
    "    # train loader\n",
    "    train_target = torch.tensor(data_train[57].values.astype(int))\n",
    "    train_target = train_target.type(torch.LongTensor)\n",
    "    train = torch.tensor(data_train.drop(57, axis = 1).values.astype(np.float32)) \n",
    "    train_tensor = data_utils.TensorDataset(train, train_target) \n",
    "    train_loader = data_utils.DataLoader(dataset = train_tensor, batch_size = batch_size, shuffle = False)\n",
    "    # validation loader\n",
    "    vali_target = torch.tensor(data_vali[57].values.astype(int))\n",
    "    vali_target = vali_target.type(torch.LongTensor)\n",
    "    vali = torch.tensor(data_vali.drop(57, axis = 1).values.astype(np.float32)) \n",
    "    vali_tensor = data_utils.TensorDataset(vali, vali_target) \n",
    "    vali_loader = data_utils.DataLoader(dataset = vali_tensor, batch_size = batch_size, shuffle = False)\n",
    "    # test loader\n",
    "    test_target = torch.tensor(data_test[57].values.astype(int))\n",
    "    test_target = test_target.type(torch.LongTensor)\n",
    "    test = torch.tensor(data_test.drop(57, axis = 1).values.astype(np.float32)) \n",
    "    test_tensor = data_utils.TensorDataset(test, test_target) \n",
    "    test_loader = data_utils.DataLoader(dataset = test_tensor, batch_size = batch_size, shuffle = False)\n",
    "\n",
    "    # class labels\n",
    "    classes = (\"normal\",\"spam\")\n",
    "    return train_loader,vali_loader,test_loader,classes"
   ]
  },
  {
   "cell_type": "code",
   "execution_count": 7,
   "metadata": {},
   "outputs": [
    {
     "name": "stdout",
     "output_type": "stream",
     "text": [
      "data_train: (3000, 58) data_vali: (900, 58) data_test: (701, 58)\n"
     ]
    }
   ],
   "source": [
    "file_path = 'spambase.data'\n",
    "batch_size = 10\n",
    "trainloader,validationloader,testloader,classes = load_spam_data(file_path,batch_size)"
   ]
  },
  {
   "cell_type": "code",
   "execution_count": 8,
   "metadata": {},
   "outputs": [],
   "source": [
    "# test the data\n",
    "# for example, one batch_size\n",
    "for i, data in enumerate(trainloader, 0):\n",
    "    inputs, labels = data\n",
    "    break"
   ]
  },
  {
   "cell_type": "code",
   "execution_count": 9,
   "metadata": {
    "scrolled": true
   },
   "outputs": [
    {
     "name": "stdout",
     "output_type": "stream",
     "text": [
      "train_batch_shape: torch.Size([10, 57])\n",
      "tensor([1, 0, 1, 0, 1, 0, 1, 1, 0, 1])\n",
      "the labels of one batch: ['spam', 'normal', 'spam', 'normal', 'spam', 'normal', 'spam', 'spam', 'normal', 'spam']\n",
      "the matrix of images in one batch:\n",
      " tensor([[0.0000e+00, 0.0000e+00, 0.0000e+00, 0.0000e+00, 6.8000e-02, 0.0000e+00,\n",
      "         0.0000e+00, 0.0000e+00, 0.0000e+00, 9.9560e-02, 0.0000e+00, 7.0321e-02,\n",
      "         0.0000e+00, 0.0000e+00, 0.0000e+00, 1.1000e-02, 0.0000e+00, 0.0000e+00,\n",
      "         1.8133e-01, 0.0000e+00, 1.6292e-01, 0.0000e+00, 0.0000e+00, 0.0000e+00,\n",
      "         0.0000e+00, 0.0000e+00, 0.0000e+00, 0.0000e+00, 0.0000e+00, 0.0000e+00,\n",
      "         0.0000e+00, 0.0000e+00, 0.0000e+00, 0.0000e+00, 0.0000e+00, 0.0000e+00,\n",
      "         0.0000e+00, 0.0000e+00, 0.0000e+00, 0.0000e+00, 0.0000e+00, 3.1513e-02,\n",
      "         0.0000e+00, 0.0000e+00, 1.0271e-02, 0.0000e+00, 0.0000e+00, 0.0000e+00,\n",
      "         3.6260e-02, 5.7219e-02, 3.8961e-02, 6.1272e-03, 0.0000e+00, 0.0000e+00,\n",
      "         4.6219e-03, 8.2099e-03, 3.3396e-02],\n",
      "        [0.0000e+00, 0.0000e+00, 3.5294e-02, 0.0000e+00, 1.8000e-02, 3.0612e-02,\n",
      "         0.0000e+00, 0.0000e+00, 0.0000e+00, 0.0000e+00, 0.0000e+00, 0.0000e+00,\n",
      "         0.0000e+00, 0.0000e+00, 0.0000e+00, 0.0000e+00, 0.0000e+00, 0.0000e+00,\n",
      "         1.0987e-01, 0.0000e+00, 5.0405e-02, 0.0000e+00, 0.0000e+00, 0.0000e+00,\n",
      "         0.0000e+00, 0.0000e+00, 0.0000e+00, 0.0000e+00, 0.0000e+00, 0.0000e+00,\n",
      "         0.0000e+00, 0.0000e+00, 0.0000e+00, 0.0000e+00, 0.0000e+00, 0.0000e+00,\n",
      "         0.0000e+00, 0.0000e+00, 0.0000e+00, 0.0000e+00, 0.0000e+00, 0.0000e+00,\n",
      "         0.0000e+00, 1.8500e-02, 2.6144e-02, 1.6780e-02, 0.0000e+00, 0.0000e+00,\n",
      "         7.5257e-03, 3.3839e-03, 0.0000e+00, 3.0482e-03, 0.0000e+00, 0.0000e+00,\n",
      "         4.4394e-04, 1.0012e-03, 8.5859e-03],\n",
      "        [0.0000e+00, 0.0000e+00, 0.0000e+00, 0.0000e+00, 0.0000e+00, 0.0000e+00,\n",
      "         0.0000e+00, 0.0000e+00, 0.0000e+00, 0.0000e+00, 0.0000e+00, 0.0000e+00,\n",
      "         0.0000e+00, 1.5600e-01, 0.0000e+00, 0.0000e+00, 0.0000e+00, 0.0000e+00,\n",
      "         8.3200e-02, 3.4378e-01, 1.4041e-01, 0.0000e+00, 0.0000e+00, 0.0000e+00,\n",
      "         0.0000e+00, 0.0000e+00, 0.0000e+00, 0.0000e+00, 0.0000e+00, 0.0000e+00,\n",
      "         0.0000e+00, 0.0000e+00, 0.0000e+00, 0.0000e+00, 0.0000e+00, 0.0000e+00,\n",
      "         0.0000e+00, 1.8727e-01, 0.0000e+00, 0.0000e+00, 0.0000e+00, 0.0000e+00,\n",
      "         0.0000e+00, 0.0000e+00, 0.0000e+00, 0.0000e+00, 0.0000e+00, 0.0000e+00,\n",
      "         0.0000e+00, 0.0000e+00, 0.0000e+00, 2.3216e-02, 3.1318e-02, 0.0000e+00,\n",
      "         4.1316e-03, 1.1814e-02, 1.0101e-02],\n",
      "        [0.0000e+00, 0.0000e+00, 0.0000e+00, 0.0000e+00, 2.0200e-01, 0.0000e+00,\n",
      "         0.0000e+00, 0.0000e+00, 0.0000e+00, 0.0000e+00, 0.0000e+00, 0.0000e+00,\n",
      "         1.8198e-01, 0.0000e+00, 0.0000e+00, 0.0000e+00, 0.0000e+00, 0.0000e+00,\n",
      "         5.3867e-02, 0.0000e+00, 0.0000e+00, 0.0000e+00, 0.0000e+00, 0.0000e+00,\n",
      "         0.0000e+00, 0.0000e+00, 0.0000e+00, 0.0000e+00, 0.0000e+00, 0.0000e+00,\n",
      "         0.0000e+00, 0.0000e+00, 0.0000e+00, 0.0000e+00, 0.0000e+00, 0.0000e+00,\n",
      "         0.0000e+00, 0.0000e+00, 0.0000e+00, 0.0000e+00, 0.0000e+00, 0.0000e+00,\n",
      "         0.0000e+00, 1.0100e-01, 0.0000e+00, 0.0000e+00, 0.0000e+00, 0.0000e+00,\n",
      "         3.7856e-02, 1.7022e-02, 4.0676e-02, 0.0000e+00, 0.0000e+00, 0.0000e+00,\n",
      "         3.8856e-04, 5.0060e-04, 2.4621e-03],\n",
      "        [2.8634e-02, 7.0028e-03, 1.0784e-01, 0.0000e+00, 2.0000e-03, 2.2109e-02,\n",
      "         2.7510e-03, 9.9910e-02, 4.3726e-02, 1.5952e-02, 1.9157e-02, 3.5160e-02,\n",
      "         7.5676e-02, 7.0000e-03, 1.2472e-01, 4.3500e-02, 6.3025e-02, 7.2607e-02,\n",
      "         2.1067e-01, 2.7503e-03, 1.4311e-01, 0.0000e+00, 7.1560e-02, 2.7200e-02,\n",
      "         0.0000e+00, 0.0000e+00, 0.0000e+00, 0.0000e+00, 0.0000e+00, 0.0000e+00,\n",
      "         0.0000e+00, 0.0000e+00, 1.1001e-03, 0.0000e+00, 0.0000e+00, 0.0000e+00,\n",
      "         0.0000e+00, 0.0000e+00, 0.0000e+00, 6.5126e-02, 0.0000e+00, 0.0000e+00,\n",
      "         0.0000e+00, 2.5000e-03, 1.0738e-02, 9.0703e-04, 0.0000e+00, 0.0000e+00,\n",
      "         6.8415e-03, 8.5111e-03, 0.0000e+00, 1.6565e-02, 2.4155e-02, 3.5302e-03,\n",
      "         3.7295e-03, 1.1514e-02, 2.2247e-01],\n",
      "        [0.0000e+00, 0.0000e+00, 0.0000e+00, 0.0000e+00, 0.0000e+00, 0.0000e+00,\n",
      "         0.0000e+00, 0.0000e+00, 0.0000e+00, 0.0000e+00, 0.0000e+00, 0.0000e+00,\n",
      "         0.0000e+00, 0.0000e+00, 0.0000e+00, 0.0000e+00, 0.0000e+00, 0.0000e+00,\n",
      "         0.0000e+00, 0.0000e+00, 0.0000e+00, 0.0000e+00, 0.0000e+00, 0.0000e+00,\n",
      "         0.0000e+00, 0.0000e+00, 0.0000e+00, 0.0000e+00, 0.0000e+00, 0.0000e+00,\n",
      "         0.0000e+00, 0.0000e+00, 0.0000e+00, 0.0000e+00, 0.0000e+00, 0.0000e+00,\n",
      "         0.0000e+00, 0.0000e+00, 0.0000e+00, 0.0000e+00, 2.3249e-01, 0.0000e+00,\n",
      "         0.0000e+00, 0.0000e+00, 7.7498e-02, 1.5102e-01, 0.0000e+00, 0.0000e+00,\n",
      "         0.0000e+00, 8.2034e-02, 0.0000e+00, 0.0000e+00, 0.0000e+00, 0.0000e+00,\n",
      "         4.5393e-04, 3.0036e-04, 2.0202e-03],\n",
      "        [1.9824e-02, 0.0000e+00, 5.2941e-02, 0.0000e+00, 3.6000e-02, 1.5306e-02,\n",
      "         0.0000e+00, 1.6202e-02, 1.7110e-02, 0.0000e+00, 0.0000e+00, 8.4798e-02,\n",
      "         0.0000e+00, 3.6000e-02, 0.0000e+00, 0.0000e+00, 0.0000e+00, 0.0000e+00,\n",
      "         1.0720e-01, 0.0000e+00, 3.0423e-01, 0.0000e+00, 6.6055e-02, 7.2000e-03,\n",
      "         0.0000e+00, 0.0000e+00, 0.0000e+00, 0.0000e+00, 0.0000e+00, 0.0000e+00,\n",
      "         0.0000e+00, 0.0000e+00, 0.0000e+00, 0.0000e+00, 0.0000e+00, 0.0000e+00,\n",
      "         0.0000e+00, 0.0000e+00, 0.0000e+00, 0.0000e+00, 0.0000e+00, 0.0000e+00,\n",
      "         0.0000e+00, 0.0000e+00, 1.2605e-02, 0.0000e+00, 0.0000e+00, 0.0000e+00,\n",
      "         3.4208e-03, 4.7170e-03, 7.3511e-03, 7.5744e-03, 4.9975e-03, 1.5129e-03,\n",
      "         2.5157e-03, 6.8082e-03, 3.3270e-02],\n",
      "        [0.0000e+00, 0.0000e+00, 1.4118e-01, 0.0000e+00, 7.2000e-02, 0.0000e+00,\n",
      "         9.9037e-02, 0.0000e+00, 0.0000e+00, 0.0000e+00, 0.0000e+00, 0.0000e+00,\n",
      "         1.2973e-01, 0.0000e+00, 0.0000e+00, 0.0000e+00, 0.0000e+00, 0.0000e+00,\n",
      "         7.7333e-02, 0.0000e+00, 1.3051e-01, 0.0000e+00, 0.0000e+00, 5.7600e-02,\n",
      "         0.0000e+00, 0.0000e+00, 0.0000e+00, 0.0000e+00, 0.0000e+00, 0.0000e+00,\n",
      "         0.0000e+00, 0.0000e+00, 0.0000e+00, 0.0000e+00, 0.0000e+00, 0.0000e+00,\n",
      "         0.0000e+00, 0.0000e+00, 0.0000e+00, 0.0000e+00, 0.0000e+00, 0.0000e+00,\n",
      "         0.0000e+00, 0.0000e+00, 0.0000e+00, 0.0000e+00, 0.0000e+00, 0.0000e+00,\n",
      "         0.0000e+00, 3.7326e-02, 0.0000e+00, 2.2446e-02, 2.0157e-02, 0.0000e+00,\n",
      "         6.1562e-03, 3.1037e-03, 1.5657e-02],\n",
      "        [0.0000e+00, 0.0000e+00, 0.0000e+00, 0.0000e+00, 0.0000e+00, 0.0000e+00,\n",
      "         0.0000e+00, 0.0000e+00, 0.0000e+00, 0.0000e+00, 0.0000e+00, 0.0000e+00,\n",
      "         0.0000e+00, 0.0000e+00, 0.0000e+00, 0.0000e+00, 0.0000e+00, 0.0000e+00,\n",
      "         1.6480e-01, 0.0000e+00, 0.0000e+00, 0.0000e+00, 0.0000e+00, 0.0000e+00,\n",
      "         4.9448e-02, 6.1825e-02, 6.1806e-02, 0.0000e+00, 0.0000e+00, 0.0000e+00,\n",
      "         0.0000e+00, 0.0000e+00, 5.6656e-02, 0.0000e+00, 0.0000e+00, 0.0000e+00,\n",
      "         0.0000e+00, 0.0000e+00, 0.0000e+00, 0.0000e+00, 0.0000e+00, 0.0000e+00,\n",
      "         0.0000e+00, 1.5450e-01, 0.0000e+00, 0.0000e+00, 0.0000e+00, 0.0000e+00,\n",
      "         0.0000e+00, 0.0000e+00, 0.0000e+00, 5.9425e-03, 0.0000e+00, 0.0000e+00,\n",
      "         0.0000e+00, 0.0000e+00, 1.3889e-03],\n",
      "        [1.5419e-01, 0.0000e+00, 6.8627e-02, 0.0000e+00, 7.0000e-02, 5.9524e-02,\n",
      "         9.6286e-02, 0.0000e+00, 1.3308e-01, 0.0000e+00, 0.0000e+00, 0.0000e+00,\n",
      "         1.2613e-01, 0.0000e+00, 0.0000e+00, 0.0000e+00, 1.4706e-01, 0.0000e+00,\n",
      "         1.6853e-01, 0.0000e+00, 1.2601e-01, 0.0000e+00, 0.0000e+00, 8.4000e-02,\n",
      "         0.0000e+00, 0.0000e+00, 0.0000e+00, 0.0000e+00, 0.0000e+00, 0.0000e+00,\n",
      "         0.0000e+00, 0.0000e+00, 0.0000e+00, 0.0000e+00, 0.0000e+00, 0.0000e+00,\n",
      "         0.0000e+00, 0.0000e+00, 0.0000e+00, 0.0000e+00, 0.0000e+00, 0.0000e+00,\n",
      "         0.0000e+00, 0.0000e+00, 0.0000e+00, 0.0000e+00, 0.0000e+00, 0.0000e+00,\n",
      "         0.0000e+00, 1.7740e-02, 0.0000e+00, 7.0817e-03, 0.0000e+00, 0.0000e+00,\n",
      "         3.2646e-03, 5.9071e-03, 1.6477e-02]])\n"
     ]
    }
   ],
   "source": [
    "# for example, one batch_size\n",
    "print(\"train_batch_shape:\",inputs.shape)\n",
    "print(labels)\n",
    "print(\"the labels of one batch:\",[classes[i] for i in labels.numpy().astype(int).tolist()])\n",
    "print(\"the matrix of images in one batch:\\n\",inputs)"
   ]
  },
  {
   "cell_type": "markdown",
   "metadata": {},
   "source": [
    "### Fully Connected Network Model Set"
   ]
  },
  {
   "cell_type": "code",
   "execution_count": 10,
   "metadata": {},
   "outputs": [],
   "source": [
    "# Define model\n",
    "class NeuralNetwork(nn.Module):\n",
    "    def __init__(self):\n",
    "        super(NeuralNetwork, self).__init__()\n",
    "        self.flatten = nn.Flatten()\n",
    "        self.linear_relu_stack = nn.Sequential(\n",
    "            nn.Linear(57, 114),\n",
    "            nn.ReLU(),\n",
    "            nn.Linear(114, 114),\n",
    "            nn.ReLU(),\n",
    "            nn.Linear(114, 2)\n",
    "        )\n",
    "\n",
    "    def forward(self, x):\n",
    "        x = self.flatten(x)\n",
    "        logits = self.linear_relu_stack(x)\n",
    "        return logits\n",
    "\n",
    "net = NeuralNetwork()"
   ]
  },
  {
   "cell_type": "code",
   "execution_count": 11,
   "metadata": {},
   "outputs": [
    {
     "name": "stdout",
     "output_type": "stream",
     "text": [
      "Model Information: NeuralNetwork(\n",
      "  (flatten): Flatten(start_dim=1, end_dim=-1)\n",
      "  (linear_relu_stack): Sequential(\n",
      "    (0): Linear(in_features=57, out_features=114, bias=True)\n",
      "    (1): ReLU()\n",
      "    (2): Linear(in_features=114, out_features=114, bias=True)\n",
      "    (3): ReLU()\n",
      "    (4): Linear(in_features=114, out_features=2, bias=True)\n",
      "  )\n",
      ")\n"
     ]
    }
   ],
   "source": [
    "# show the information of the NN\n",
    "print(\"Model Information:\",net)"
   ]
  },
  {
   "cell_type": "code",
   "execution_count": 12,
   "metadata": {},
   "outputs": [
    {
     "data": {
      "text/plain": [
       "'Q2_NN_Model.pdf'"
      ]
     },
     "execution_count": 12,
     "metadata": {},
     "output_type": "execute_result"
    }
   ],
   "source": [
    "# visualize the layer,download the pdf\n",
    "import torch\n",
    "from torchviz import make_dot\n",
    "x = torch.rand(10,57)\n",
    "g = make_dot(net(x))\n",
    "g.render('Q2_NN_Model', view=True)"
   ]
  },
  {
   "cell_type": "code",
   "execution_count": 13,
   "metadata": {},
   "outputs": [],
   "source": [
    "import torch.optim as optim\n",
    "criterion = nn.CrossEntropyLoss()\n",
    "optimizer = optim.SGD(net.parameters(), lr=0.001, momentum=0.9)"
   ]
  },
  {
   "cell_type": "code",
   "execution_count": 14,
   "metadata": {},
   "outputs": [],
   "source": [
    "# create the required list\n",
    "loss_list = []\n",
    "acc_list = []\n",
    "loss_list_val = []\n",
    "acc_list_val = []\n",
    "interation_times = 0"
   ]
  },
  {
   "cell_type": "code",
   "execution_count": 15,
   "metadata": {},
   "outputs": [],
   "source": [
    "# compute acc\n",
    "def compute_acc(outputs, labels):\n",
    "    max_list = []\n",
    "    tmp_list = []\n",
    "    _, predicted = torch.max(outputs, 1)\n",
    "    max_list = predicted.tolist()\n",
    "    for i in range(len(max_list)):\n",
    "        if max_list[i] == labels[i]:\n",
    "            tmp_list.append(1)\n",
    "        else:\n",
    "            tmp_list.append(0)\n",
    "    return sum(tmp_list)/len(tmp_list)"
   ]
  },
  {
   "cell_type": "code",
   "execution_count": 16,
   "metadata": {},
   "outputs": [
    {
     "name": "stderr",
     "output_type": "stream",
     "text": [
      "100%|████████████████████████████████████████████████████████████████████████████████| 100/100 [00:39<00:00,  2.55it/s]\n"
     ]
    },
    {
     "name": "stdout",
     "output_type": "stream",
     "text": [
      "Finished Training\n"
     ]
    }
   ],
   "source": [
    "epoch_num = 100\n",
    "for epoch in tqdm(range(1,epoch_num+1)): \n",
    "    running_loss = 0.0\n",
    "    running_acc = 0.0\n",
    "    times = 0\n",
    "    for i, data in enumerate(trainloader, 0):\n",
    "        times += 1\n",
    "        # get the training data\n",
    "        inputs, labels = data\n",
    "        # initilize the parameter\n",
    "        optimizer.zero_grad()\n",
    "\n",
    "        # forward,backward and optimize\n",
    "        outputs = net(inputs)\n",
    "        loss = criterion(outputs, labels)\n",
    "        loss.backward()\n",
    "        optimizer.step()\n",
    "\n",
    "        # record statistics\n",
    "        interation_times += 1\n",
    "        running_loss += loss.item()\n",
    "        running_acc += compute_acc(outputs, labels)\n",
    "        \n",
    "    loss_list.append([running_loss / times,epoch])\n",
    "    acc_list.append([running_acc / times,epoch])\n",
    "    running_loss = 0.0\n",
    "    running_acc = 0.0\n",
    "\n",
    "    #validation\n",
    "    loss_val = 0; correct_val = 0; total = 0\n",
    "    for data in validationloader:\n",
    "        images, labels = data\n",
    "        outputs = net(images)\n",
    "        loss_val += criterion(outputs, labels).item()\n",
    "        correct_val += compute_acc(outputs, labels)\n",
    "        total += 1\n",
    "\n",
    "    loss_list_val.append([loss_val / total,epoch])\n",
    "    acc_list_val.append([correct_val / total,epoch])\n",
    "                \n",
    "print('Finished Training')"
   ]
  },
  {
   "cell_type": "code",
   "execution_count": 17,
   "metadata": {},
   "outputs": [
    {
     "data": {
      "text/plain": [
       "Text(0.5, 1.0, 'cost for NN training')"
      ]
     },
     "execution_count": 17,
     "metadata": {},
     "output_type": "execute_result"
    },
    {
     "data": {
      "image/png": "[encoded data removed]",
      "text/plain": [
       "<Figure size 432x288 with 1 Axes>"
      ]
     },
     "metadata": {
      "needs_background": "light"
     },
     "output_type": "display_data"
    }
   ],
   "source": [
    "# draw the CNN training cost\n",
    "iteration_loss_list = loss_list\n",
    "\n",
    "# draw plot \n",
    "plt.plot([x[1] for x in iteration_loss_list], [y[0] for y in iteration_loss_list])\n",
    "\n",
    "# set the label of X and y\n",
    "plt.xlabel(\"epoch\")\n",
    "plt.ylabel(\"avg_batch_loss\")\n",
    "\n",
    "# set the title of plot \n",
    "plt.title(\"cost for NN training\")"
   ]
  },
  {
   "cell_type": "code",
   "execution_count": 18,
   "metadata": {},
   "outputs": [
    {
     "data": {
      "text/plain": [
       "Text(0.5, 1.0, 'accuracy for NN training')"
      ]
     },
     "execution_count": 18,
     "metadata": {},
     "output_type": "execute_result"
    },
    {
     "data": {
      "image/png": "[encoded data removed]",
      "text/plain": [
       "<Figure size 432x288 with 1 Axes>"
      ]
     },
     "metadata": {
      "needs_background": "light"
     },
     "output_type": "display_data"
    }
   ],
   "source": [
    "# draw the CNN training acc\n",
    "iteration_acc_list = acc_list\n",
    "\n",
    "# draw plot \n",
    "plt.plot([x[1] for x in iteration_acc_list], [y[0] for y in iteration_acc_list])\n",
    "\n",
    "# set the label of X and y\n",
    "plt.xlabel(\"epoch\")\n",
    "plt.ylabel(\"avg_batch_accuracy\")\n",
    "\n",
    "# set the title of plot \n",
    "plt.title(\"accuracy for NN training\")"
   ]
  },
  {
   "cell_type": "code",
   "execution_count": 19,
   "metadata": {},
   "outputs": [
    {
     "data": {
      "text/plain": [
       "Text(0.5, 1.0, 'cost for NN validation')"
      ]
     },
     "execution_count": 19,
     "metadata": {},
     "output_type": "execute_result"
    },
    {
     "data": {
      "image/png": "[encoded data removed]",
      "text/plain": [
       "<Figure size 432x288 with 1 Axes>"
      ]
     },
     "metadata": {
      "needs_background": "light"
     },
     "output_type": "display_data"
    }
   ],
   "source": [
    "# draw the CNN validation cost\n",
    "iteration_loss_list = loss_list_val\n",
    "\n",
    "# draw plot \n",
    "plt.plot([x[1] for x in iteration_loss_list], [y[0] for y in iteration_loss_list])\n",
    "\n",
    "# set the label of X and y\n",
    "plt.xlabel(\"epoch\")\n",
    "plt.ylabel(\"avg_batch_loss\")\n",
    "\n",
    "# set the title of plot \n",
    "plt.title(\"cost for NN validation\")"
   ]
  },
  {
   "cell_type": "code",
   "execution_count": 20,
   "metadata": {},
   "outputs": [
    {
     "data": {
      "text/plain": [
       "Text(0.5, 1.0, 'accuracy for NN validation')"
      ]
     },
     "execution_count": 20,
     "metadata": {},
     "output_type": "execute_result"
    },
    {
     "data": {
      "image/png": "[encoded data removed]",
      "text/plain": [
       "<Figure size 432x288 with 1 Axes>"
      ]
     },
     "metadata": {
      "needs_background": "light"
     },
     "output_type": "display_data"
    }
   ],
   "source": [
    "# draw the CNN validation acc\n",
    "iteration_acc_list = acc_list_val\n",
    "\n",
    "# draw plot \n",
    "plt.plot([x[1] for x in iteration_acc_list], [y[0] for y in iteration_acc_list])\n",
    "\n",
    "# set the label of X and y\n",
    "plt.xlabel(\"epoch\")\n",
    "plt.ylabel(\"avg_batch_accuracy\")\n",
    "\n",
    "# set the title of plot \n",
    "plt.title(\"accuracy for NN validation\")"
   ]
  },
  {
   "cell_type": "markdown",
   "metadata": {},
   "source": [
    "### Save Model"
   ]
  },
  {
   "cell_type": "code",
   "execution_count": 21,
   "metadata": {},
   "outputs": [
    {
     "name": "stdout",
     "output_type": "stream",
     "text": [
      "Saved\n"
     ]
    }
   ],
   "source": [
    "# save the model\n",
    "torch.save(net.state_dict(), \"Q2_NN.pth\")\n",
    "print(\"Saved\")"
   ]
  },
  {
   "cell_type": "markdown",
   "metadata": {},
   "source": [
    "### Load Saved Model"
   ]
  },
  {
   "cell_type": "code",
   "execution_count": 22,
   "metadata": {},
   "outputs": [
    {
     "data": {
      "text/plain": [
       "<All keys matched successfully>"
      ]
     },
     "execution_count": 22,
     "metadata": {},
     "output_type": "execute_result"
    }
   ],
   "source": [
    "net = NeuralNetwork()\n",
    "net.load_state_dict(torch.load(\"Q2_NN.pth\"))"
   ]
  },
  {
   "cell_type": "markdown",
   "metadata": {},
   "source": [
    "### Test"
   ]
  },
  {
   "cell_type": "code",
   "execution_count": 23,
   "metadata": {},
   "outputs": [
    {
     "name": "stdout",
     "output_type": "stream",
     "text": [
      "Accuracy of the network on the test images: 93 %\n"
     ]
    }
   ],
   "source": [
    "# test all the test data\n",
    "correct = 0\n",
    "total = 0\n",
    "\n",
    "for data in testloader:\n",
    "    images, labels = data\n",
    "    outputs = net(images)\n",
    "    correct += compute_acc(outputs, labels)\n",
    "    total += 1\n",
    "\n",
    "print('Accuracy of the network on the test images: %d %%' % (100 * correct / total))"
   ]
  },
  {
   "cell_type": "code",
   "execution_count": 24,
   "metadata": {},
   "outputs": [
    {
     "name": "stdout",
     "output_type": "stream",
     "text": [
      "Accuracy for class normal is: 94.4 %\n",
      "Accuracy for class spam  is: 92.9 %\n"
     ]
    }
   ],
   "source": [
    "# test all the test data based on differnt classification\n",
    "# prepare to count predictions for each class\n",
    "correct_pred = {_name: 0 for _name in classes}\n",
    "total_pred = {_name: 0 for _name in classes}\n",
    "y_true = []\n",
    "y_pred = []\n",
    "\n",
    "for data in testloader:\n",
    "    images, labels = data\n",
    "    outputs = net(images)\n",
    "    _, predictions = torch.max(outputs, 1)\n",
    "    # collect the correct predictions for each class\n",
    "    y_true += labels.tolist()\n",
    "    y_pred += predictions.tolist()\n",
    "    for label, prediction in zip(labels, predictions):\n",
    "        if label == prediction:\n",
    "            correct_pred[classes[label]] += 1\n",
    "        total_pred[classes[label]] += 1\n",
    "\n",
    "# print accuracy for each classification\n",
    "for _name, correct_count in correct_pred.items():\n",
    "    accuracy = 100 * float(correct_count) / total_pred[_name]\n",
    "    print(\"Accuracy for class {:5s} is: {:.1f} %\".format(_name,accuracy))"
   ]
  },
  {
   "cell_type": "markdown",
   "metadata": {},
   "source": [
    "### Evaluation"
   ]
  },
  {
   "cell_type": "code",
   "execution_count": 25,
   "metadata": {},
   "outputs": [],
   "source": [
    "# confusion matrix\n",
    "def evaluation(y_true,y_pred,classes):\n",
    "    judge = classification_report(y_true, y_pred,target_names=classes)\n",
    "    print(judge)\n",
    "    #confusion matrix\n",
    "    classes = classes\n",
    "    confusion = confusion_matrix(y_true, y_pred)\n",
    "    plt.imshow(confusion, cmap=plt.cm.Greens)\n",
    "    indices = range(len(confusion))\n",
    "    plt.xticks(indices, classes)\n",
    "    plt.yticks(indices, classes)\n",
    "    plt.colorbar()\n",
    "    plt.xlabel('y_pred')\n",
    "    plt.ylabel('y_true')\n",
    "    for first_index in range(len(confusion)):\n",
    "        for second_index in range(len(confusion[first_index])):\n",
    "            plt.text(first_index, second_index, confusion[first_index][second_index])\n",
    "    plt.show()"
   ]
  },
  {
   "cell_type": "code",
   "execution_count": 26,
   "metadata": {},
   "outputs": [
    {
     "name": "stdout",
     "output_type": "stream",
     "text": [
      "              precision    recall  f1-score   support\n",
      "\n",
      "      normal       0.96      0.94      0.95       447\n",
      "        spam       0.90      0.93      0.92       254\n",
      "\n",
      "    accuracy                           0.94       701\n",
      "   macro avg       0.93      0.94      0.93       701\n",
      "weighted avg       0.94      0.94      0.94       701\n",
      "\n"
     ]
    },
    {
     "data": {
      "image/png": "[encoded data removed]",
      "text/plain": [
       "<Figure size 432x288 with 2 Axes>"
      ]
     },
     "metadata": {
      "needs_background": "light"
     },
     "output_type": "display_data"
    }
   ],
   "source": [
    "evaluation(y_true,y_pred,classes)"
   ]
  },
  {
   "cell_type": "code",
   "execution_count": null,
   "metadata": {},
   "outputs": [],
   "source": []
  },
  {
   "cell_type": "code",
   "execution_count": null,
   "metadata": {},
   "outputs": [],
   "source": []
  },
  {
   "cell_type": "code",
   "execution_count": null,
   "metadata": {},
   "outputs": [],
   "source": []
  },
  {
   "cell_type": "code",
   "execution_count": null,
   "metadata": {},
   "outputs": [],
   "source": []
  },
  {
   "cell_type": "code",
   "execution_count": null,
   "metadata": {},
   "outputs": [],
   "source": []
  },
  {
   "cell_type": "code",
   "execution_count": null,
   "metadata": {},
   "outputs": [],
   "source": []
  }
 ],
 "metadata": {
  "kernelspec": {
   "display_name": "Python 3",
   "language": "python",
   "name": "python3"
  },
  "language_info": {
   "codemirror_mode": {
    "name": "ipython",
    "version": 3
   },
   "file_extension": ".py",
   "mimetype": "text/x-python",
   "name": "python",
   "nbconvert_exporter": "python",
   "pygments_lexer": "ipython3",
   "version": "3.7.6"
  }
 },
 "nbformat": 4,
 "nbformat_minor": 4
}
