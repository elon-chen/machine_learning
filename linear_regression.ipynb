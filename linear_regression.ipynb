{
 "cells": [
  {
   "cell_type": "code",
   "execution_count": 1,
   "id": "afd6b608",
   "metadata": {},
   "outputs": [],
   "source": [
    "import numpy as np\n",
    "import matplotlib.pyplot as plt"
   ]
  },
  {
   "cell_type": "code",
   "execution_count": 3,
   "id": "a28d0818",
   "metadata": {},
   "outputs": [],
   "source": [
    "# lost function\n",
    "def linear_loss(w,b,data):\n",
    "    x = data[:,0]\n",
    "    y = data[:,1]\n",
    "    \n",
    "    # computer loss function\n",
    "    loss = np.sum((y - w * x - b) ** 2) / data.shape[0]\n",
    "    \n",
    "    return loss"
   ]
  },
  {
   "cell_type": "code",
   "execution_count": 16,
   "id": "434c1173",
   "metadata": {},
   "outputs": [],
   "source": [
    "# gradient descent\n",
    "def linear_gradient(w,b,data,lr):\n",
    "    N = float(len(data))\n",
    "    x = data[:,0]\n",
    "    y = data[:,1]\n",
    "    \n",
    "    # computer derivative\n",
    "    dw = np.sum(x * (y - (w * x + b))) * (-2) / (N)\n",
    "    db = np.sum(y - (w * x + b)) * (-2) / (N)\n",
    "    \n",
    "    # update param w and b with learning rate\n",
    "    w = w - (lr * dw)\n",
    "    b = b - (lr * db)\n",
    "    \n",
    "    return w,b"
   ]
  },
  {
   "cell_type": "code",
   "execution_count": 17,
   "id": "815f1d71",
   "metadata": {},
   "outputs": [],
   "source": [
    "# iteration\n",
    "def linear_iteration(data,w,b,lr,epcoh):\n",
    "    for i in range(epcoh):\n",
    "        w,b = linear_gradient(w,b,data,lr)\n",
    "        if i % 100 == 0:\n",
    "            print(\"epoch {0}: loss = {1}\".format(i,linear_loss(w,b,data)))\n",
    "    \n",
    "    return w,b"
   ]
  },
  {
   "cell_type": "code",
   "execution_count": 18,
   "id": "2ab9961c",
   "metadata": {},
   "outputs": [],
   "source": [
    "# draw\n",
    "def plot_data(data,w,b):\n",
    "    x = data[:,0]\n",
    "    y = data[:,1]\n",
    "    y_predict = w * x + b\n",
    "    plt.plot(x,y,\"o\")\n",
    "    plt.plot(x,y_predict,\"k-\")\n",
    "    plt.show()"
   ]
  },
  {
   "cell_type": "code",
   "execution_count": 19,
   "id": "fa1c1c38",
   "metadata": {},
   "outputs": [],
   "source": [
    "# linear regression():\n",
    "def linear_regression(data):\n",
    "    x = data[:,0]\n",
    "    y = data[:,1]\n",
    "    plt.plot(x,y,\"o\")\n",
    "    plt.show()\n",
    "    \n",
    "    # initialize param\n",
    "    lr = 0.01 # learning rate\n",
    "    epoch = 1000 # training times\n",
    "    w = 0.0 # initial w\n",
    "    b = 0.0 # initial b\n",
    "    \n",
    "    # show initial param\n",
    "    print (\"initial param:\\n ini_b = {0}\\n ini_w = {1}\\n loss of begin = {2}\\n \" \\\n",
    "          .format(b,w,linear_loss(w,b,data)))\n",
    "    \n",
    "    # training\n",
    "    w,b = linear_iteration(data,w,b,lr,epoch)\n",
    "    \n",
    "    # show final result\n",
    "    print (\"final param:\\n ini_b = {0}\\n ini_w = {1}\\n loss of begin = {2}\\n \" \\\n",
    "          .format(b,w,linear_loss(w,b,data)))\n",
    "    \n",
    "    # show picture\n",
    "    plot_data(data,w,b)"
   ]
  },
  {
   "cell_type": "code",
   "execution_count": 21,
   "id": "611e35c4",
   "metadata": {},
   "outputs": [
    {
     "data": {
      "image/png": "[encoded data removed]",
      "text/plain": [
       "<Figure size 432x288 with 1 Axes>"
      ]
     },
     "metadata": {
      "needs_background": "light"
     },
     "output_type": "display_data"
    },
    {
     "name": "stdout",
     "output_type": "stream",
     "text": [
      "initial param:\n",
      " ini_b = 0.0\n",
      " ini_w = 0.0\n",
      " loss of begin = 38.5\n",
      " \n",
      "epoch 0: loss = 18.26670185185186\n",
      "epoch 100: loss = 0.6460054095336237\n",
      "epoch 200: loss = 0.5546326096599082\n",
      "epoch 300: loss = 0.510653045272952\n",
      "epoch 400: loss = 0.48948479732236216\n",
      "epoch 500: loss = 0.47929609428394476\n",
      "epoch 600: loss = 0.4743920668062165\n",
      "epoch 700: loss = 0.47203165985239415\n",
      "epoch 800: loss = 0.4708955485616322\n",
      "epoch 900: loss = 0.47034871537131867\n",
      "final param:\n",
      " ini_b = 1.6975759271812538\n",
      " ini_w = 1.1797807667669173\n",
      " loss of begin = 0.4700873060815481\n",
      " \n"
     ]
    },
    {
     "data": {
      "image/png": "[encoded data removed]",
      "text/plain": [
       "<Figure size 432x288 with 1 Axes>"
      ]
     },
     "metadata": {
      "needs_background": "light"
     },
     "output_type": "display_data"
    }
   ],
   "source": [
    "if __name__ == \"__main__\":\n",
    "    original_list = [[1,3],[2,4],[3,6],[4,5],[5,8],[6,9]]\n",
    "    data = np.array(original_list)\n",
    "    linear_regression(data)"
   ]
  }
 ],
 "metadata": {
  "kernelspec": {
   "display_name": "Python 3",
   "language": "python",
   "name": "python3"
  },
  "language_info": {
   "codemirror_mode": {
    "name": "ipython",
    "version": 3
   },
   "file_extension": ".py",
   "mimetype": "text/x-python",
   "name": "python",
   "nbconvert_exporter": "python",
   "pygments_lexer": "ipython3",
   "version": "3.8.8"
  }
 },
 "nbformat": 4,
 "nbformat_minor": 5
}
